{
 "cells": [
  {
   "cell_type": "markdown",
   "id": "c4c57d59",
   "metadata": {},
   "source": [
    "# Setup"
   ]
  },
  {
   "cell_type": "code",
   "execution_count": null,
   "id": "715ecd61",
   "metadata": {},
   "outputs": [],
   "source": [
    "# Set up environment and define shape of data\n",
    "\n",
    "import pandas as pd\n",
    "import matplotlib.pyplot as plt\n",
    "\n",
    "pd.set_option('display.max_colwidth', None)\n",
    "\n",
    "# List of columns to analyze\n",
    "# Note that pandas will make any duplicate column names unique by appending a sequence number\n",
    "# to subsequent occurences of them when importing said data\n",
    "# (e.g. HMS Rank, HMS Rank.1, HMS Rank.2, etc.)\n",
    "SCHEMA = {\n",
    "    '1. Sex assigned at birth': 'string',\n",
    "    '2. Gender Identity': 'string',\n",
    "    'Black or African American': 'string',\n",
    "    'Hispanic or Latino': 'string',\n",
    "    'American Indian or Alaskan Native': 'string',\n",
    "    'Native Hawaiian and other Pacific Islander': 'string',\n",
    "    'Cambodian or Laotian': 'string',\n",
    "    'None': 'string',\n",
    "    'Prefer not to answer': 'string',\n",
    "    '4. Identification as ': 'string',\n",
    "    '5. Requirement for workplace accommodations: (Reasonable accommodations in the ' + \\\n",
    "    'workplace support people with disability and/or chronic health conditions in ' + \\\n",
    "    'performing their jobs.) If you would like more information about obtaining ' + \\\n",
    "    'accommodations, contact MGH OHS.': 'string',\n",
    "    '1. Are you considering or engaging in the process of retirement? ': 'string',\n",
    "    '2. Are you interested in learning more about HMS promotions and discussing advancement ' + \\\n",
    "    'on the HMS ladder? ': 'string',\n",
    "    'MD': 'string',\n",
    "    'MBChB': 'string',\n",
    "    'DO': 'string',\n",
    "    'PhD': 'string',\n",
    "    'DPhil': 'string',\n",
    "    'Sci D': 'string',\n",
    "    'RDN': 'string',\n",
    "    'MS': 'string',\n",
    "    'MSN': 'string',\n",
    "    'MPH': 'string',\n",
    "    'MPA': 'string',\n",
    "    'MBA': 'string',\n",
    "    'Other': 'string',\n",
    "    'i. HMS Rank': 'string',\n",
    "    'ii. Date (yyyy)': 'string',\n",
    "    'i. HMS Rank.1': 'string',\n",
    "    'ii. Date (yyyy).1': 'string',\n",
    "    'i. HMS Rank.2': 'string',\n",
    "    'ii. Date (yyyy).2': 'string',\n",
    "    'i. HMS Rank.3': 'string',\n",
    "    'ii. Date (yyyy).3': 'string',\n",
    "    'i. HMS Rank.4': 'string',\n",
    "    'ii. Date (yyyy).4': 'string',\n",
    "    'i. Job Title': 'string',\n",
    "    'ii. Date (yyyy).5': 'string',\n",
    "    'i. Job Title.1': 'string',\n",
    "    'ii. Date (yyyy).6': 'string',\n",
    "    'i. Job Title.2': 'string',\n",
    "    'ii. Date (yyyy).7': 'string',\n",
    "    'i. Job Title.3': 'string',\n",
    "    'ii. Date (yyyy).8': 'string',\n",
    "    'i. Job Title.4': 'string',\n",
    "    'ii. Date (yyyy).9': 'string',\n",
    "}\n",
    "\n",
    "# Column label capitalization is inconsistent between data sets\n",
    "# Convert all names to lowercase\n",
    "SCHEMA = {key.lower(): val for key, val in SCHEMA.items()}\n",
    "\n",
    "# Store a list of column labels for easier reference\n",
    "COLUMNS = list(SCHEMA.keys())\n",
    "\n",
    "# Create scaffolding for DataFrame that will house concatenated datasets\n",
    "df = pd.DataFrame(columns=COLUMNS).astype(SCHEMA)\n",
    "\n",
    "# Helper for percentage formula\n",
    "# Default denominator is the total number of faculty invited to complete the survey\n",
    "INVITED = 1095\n",
    "def calcPercent(numerator, denominator=INVITED):\n",
    "    return round(numerator / denominator * 100, 2)\n",
    "\n",
    "# Bar graph bar colors\n",
    "BAR_COLORS = ['red','blue','gray', 'pink', 'purple', 'yellow', 'green', 'orange']"
   ]
  },
  {
   "cell_type": "code",
   "execution_count": null,
   "id": "773ad085",
   "metadata": {},
   "outputs": [],
   "source": [
    "# Load all datasets into memory\n",
    "\n",
    "from pathlib import Path\n",
    "\n",
    "for filepath in Path(\"./data\").iterdir():\n",
    "    if filepath.is_file():\n",
    "        print(f\"Importing {filepath}\")\n",
    "        rawDf = pd.read_excel(\n",
    "            filepath,\n",
    "            header=0,\n",
    "            engine=\"openpyxl\"\n",
    "        )\n",
    "        # Convert raw column names to lowercase\n",
    "        rawDf.rename(columns=str.lower, inplace=True)\n",
    "        # Select only the COLUMNS we are interested in\n",
    "        rawDf = rawDf.filter(items=COLUMNS)\n",
    "        # Clear out blank rows\n",
    "        trimmedDf = rawDf.dropna(how='all')\n",
    "        print(\n",
    "            f\"{rawDf.shape[0] - trimmedDf.shape[0]} blank rows dropped.  \" + \\\n",
    "            f\"Remaining rows: {trimmedDf.shape[0]}.\\n\"\n",
    "        )\n",
    "        # Append rows to main DataFrame\n",
    "        initial = df.shape[0]\n",
    "        df = pd.concat([df, trimmedDf], ignore_index=True)\n",
    "        del rawDf, trimmedDf, initial\n",
    "\n",
    "del Path, filepath"
   ]
  },
  {
   "cell_type": "markdown",
   "id": "4bf0ce6a",
   "metadata": {},
   "source": [
    "<hr style=\"border:3px solid gray\">\n",
    "\n",
    "# Individual datapoint analysis\n",
    "\n",
    "# Dataset Size"
   ]
  },
  {
   "cell_type": "code",
   "execution_count": null,
   "id": "bd817045",
   "metadata": {},
   "outputs": [],
   "source": [
    "print(\n",
    "    f\"{df.shape[0]} faculty provided at least some demographic or rank data for a \" + \\\n",
    "    f\"{calcPercent(df.shape[0])}% overall response rate.\"\n",
    ")"
   ]
  },
  {
   "cell_type": "markdown",
   "id": "b2840ba3",
   "metadata": {},
   "source": [
    "# Sex at Birth"
   ]
  },
  {
   "cell_type": "code",
   "execution_count": null,
   "id": "cf38afb3",
   "metadata": {},
   "outputs": [],
   "source": [
    "# Number of respondents that provided this datapoint\n",
    "col = df[COLUMNS[0]]\n",
    "responses = col.dropna().size\n",
    "print(f\"{responses} faculty answered this question for a {calcPercent(responses)}% response rate.\")"
   ]
  },
  {
   "cell_type": "code",
   "execution_count": null,
   "id": "287f3139",
   "metadata": {},
   "outputs": [],
   "source": [
    "# Chart counts and percentages\n",
    "col.fillna(value='No Answer', inplace=True)\n",
    "# Count the occurences of each unique value in the column\n",
    "col = col.value_counts()\n",
    "\n",
    "# Create a table with the unique values as the row names\n",
    "tmpDf = col.rename(\"Count\").to_frame()\n",
    "# Calculate how many did not answer this question\n",
    "tmpDf.at['No Answer', 'Count'] = INVITED - tmpDf.iloc[:2, 0].sum()\n",
    "# Calculate percentages for each unique value\n",
    "tmpDf['Percent'] = calcPercent(tmpDf['Count'])\n",
    "tmpDf"
   ]
  },
  {
   "cell_type": "code",
   "execution_count": null,
   "id": "0122631d",
   "metadata": {},
   "outputs": [],
   "source": [
    "plt.bar(\n",
    "    x=tmpDf.index,\n",
    "    height=tmpDf['Count'],\n",
    "    color=BAR_COLORS\n",
    ")\n",
    "plt.title(COLUMNS[0], fontsize=18)"
   ]
  },
  {
   "cell_type": "code",
   "execution_count": null,
   "id": "6d187e6a",
   "metadata": {},
   "outputs": [],
   "source": [
    "del responses, col, tmpDf"
   ]
  },
  {
   "cell_type": "markdown",
   "id": "f88ee670",
   "metadata": {},
   "source": [
    "# Gender"
   ]
  },
  {
   "cell_type": "code",
   "execution_count": null,
   "id": "e29f7b35",
   "metadata": {},
   "outputs": [],
   "source": [
    "# Number of respondents that provided this datapoint\n",
    "col = df[COLUMNS[1]]\n",
    "responses = col.dropna().size\n",
    "print(f\"{responses} faculty answered this question for a {calcPercent(responses)}% response rate.\")"
   ]
  },
  {
   "cell_type": "code",
   "execution_count": null,
   "id": "aec6966c",
   "metadata": {},
   "outputs": [],
   "source": [
    "# Chart counts and percentages\n",
    "col.fillna(value='No Answer', inplace=True)\n",
    "col = col.value_counts()\n",
    "\n",
    "tmpDf = col.rename(\"Count\").to_frame()\n",
    "tmpDf.at['No Answer', 'Count'] = INVITED - tmpDf.iloc[:2, 0].sum() - tmpDf.iloc[3:, 0].sum()\n",
    "tmpDf['Percent'] = calcPercent(tmpDf['Count'])\n",
    "tmpDf"
   ]
  },
  {
   "cell_type": "code",
   "execution_count": null,
   "id": "f79b07d9",
   "metadata": {},
   "outputs": [],
   "source": [
    "fig = plt.figure(figsize=(15,10))\n",
    "axes = fig.add_subplot()\n",
    "axes.set_title(COLUMNS[1], fontsize=18)\n",
    "plot = axes.bar(\n",
    "    x=tmpDf.index,\n",
    "    height=tmpDf['Count'],\n",
    "    color=BAR_COLORS\n",
    ")"
   ]
  },
  {
   "cell_type": "code",
   "execution_count": null,
   "id": "78dc09ed",
   "metadata": {},
   "outputs": [],
   "source": [
    "del responses, col, tmpDf, fig, axes, plot"
   ]
  },
  {
   "cell_type": "markdown",
   "id": "22ddd34e",
   "metadata": {},
   "source": [
    "# URIM"
   ]
  },
  {
   "cell_type": "code",
   "execution_count": null,
   "id": "361eb89f",
   "metadata": {},
   "outputs": [],
   "source": [
    "# Select URIM columns\n",
    "tmpDf = df.iloc[:, 2:9]"
   ]
  },
  {
   "cell_type": "code",
   "execution_count": null,
   "id": "1736fc90",
   "metadata": {},
   "outputs": [],
   "source": [
    "# Count up how many survey respondents supplied URIM data\n",
    "tmpDf['answered'] = 0\n",
    "for i in range(2, 9):\n",
    "    # For each URIM column, select non-null responses and mark them in the 'answered' column\n",
    "    tmpDf.loc[~tmpDf[COLUMNS[i]].isnull(), 'answered'] = 1\n",
    "\n",
    "responses = tmpDf[tmpDf.answered == 1].shape[0]\n",
    "print(f\"{responses} faculty answered the URIM question \" + \\\n",
    "      f\"for a {calcPercent(responses)}% response rate.\")\n",
    "\n",
    "# Remove rows with no URIM data\n",
    "tmpDf.drop(tmpDf[tmpDf.answered == 0].index, inplace=True)\n",
    "# Cleanup work column\n",
    "tmpDf.drop('answered', axis=1, inplace=True)"
   ]
  },
  {
   "cell_type": "code",
   "execution_count": null,
   "id": "8c638150",
   "metadata": {},
   "outputs": [],
   "source": [
    "# Define and populate count table for each demographic, bearing in mind that\n",
    "# multiple ethnicities can be selected by a single respondent\n",
    "countDf = pd.DataFrame(columns=['Count', 'Percent'])\n",
    "for i in range(2, 9):\n",
    "    count = len(tmpDf[~tmpDf[COLUMNS[i]].isnull()])\n",
    "    countDf.loc[COLUMNS[i]] = [\n",
    "        count,\n",
    "        calcPercent(count)\n",
    "    ]\n",
    "\n",
    "countDf.loc['No Answer', 'Count'] = INVITED - responses\n",
    "countDf.loc['No Answer', 'Percent'] = calcPercent(countDf.at['No Answer', 'Count'])\n",
    "\n",
    "\n",
    "countDf['Count'] = countDf['Count'].astype(int)\n",
    "countDf"
   ]
  },
  {
   "cell_type": "markdown",
   "id": "aaad4293",
   "metadata": {},
   "source": [
    "\"Prefer not to answer\" and \"No answer\" are kept separate because they represent different nuances.  The former represents respondents who were willing to participate to at least some degree, while the latter represents respondents who chose not to answer at all."
   ]
  },
  {
   "cell_type": "code",
   "execution_count": null,
   "id": "c01df65f",
   "metadata": {},
   "outputs": [],
   "source": [
    "del responses, tmpDf, count, countDf"
   ]
  },
  {
   "cell_type": "markdown",
   "id": "e543886b",
   "metadata": {},
   "source": [
    "# Orientation"
   ]
  },
  {
   "cell_type": "code",
   "execution_count": null,
   "id": "c39c9855",
   "metadata": {},
   "outputs": [],
   "source": [
    "# Number of respondents that provided this datapoint\n",
    "col = df[COLUMNS[9]]\n",
    "responses = col.dropna().size\n",
    "print(f\"{responses} faculty answered this question for a {calcPercent(responses)}% response rate.\")"
   ]
  },
  {
   "cell_type": "code",
   "execution_count": null,
   "id": "1d541d65",
   "metadata": {},
   "outputs": [],
   "source": [
    "# Chart counts and percentages\n",
    "col.fillna(value='No Answer', inplace=True)\n",
    "col = col.value_counts()\n",
    "\n",
    "tmpDf = col.rename(\"Count\").to_frame()\n",
    "tmpDf.at['No Answer', 'Count'] = INVITED - tmpDf.iloc[:2, 0].sum() - tmpDf.iloc[3:, 0].sum()\n",
    "tmpDf['Percent'] = calcPercent(tmpDf['Count'])\n",
    "tmpDf"
   ]
  },
  {
   "cell_type": "code",
   "execution_count": null,
   "id": "170506b3",
   "metadata": {},
   "outputs": [],
   "source": [
    "fig = plt.figure(figsize=(15,10))\n",
    "axes = fig.add_subplot()\n",
    "axes.set_title(COLUMNS[9], fontsize=18)\n",
    "plot = axes.bar(\n",
    "    x=tmpDf.index,\n",
    "    height=tmpDf['Count'],\n",
    "    color=BAR_COLORS\n",
    ")"
   ]
  },
  {
   "cell_type": "code",
   "execution_count": null,
   "id": "21e5a1a7",
   "metadata": {},
   "outputs": [],
   "source": [
    "del responses, col, tmpDf, fig, axes, plot"
   ]
  },
  {
   "cell_type": "markdown",
   "id": "bceb9a28",
   "metadata": {},
   "source": [
    "# Accomodations"
   ]
  },
  {
   "cell_type": "code",
   "execution_count": null,
   "id": "5f76b949",
   "metadata": {},
   "outputs": [],
   "source": [
    "# Number of respondents that provided this datapoint\n",
    "col = df[COLUMNS[10]]\n",
    "responses = col.dropna().size\n",
    "print(f\"{responses} faculty answered this question for a {calcPercent(responses)}% response rate.\")"
   ]
  },
  {
   "cell_type": "code",
   "execution_count": null,
   "id": "1cfea5ac",
   "metadata": {},
   "outputs": [],
   "source": [
    "# Chart counts and percentages\n",
    "col.fillna(value='No Answer', inplace=True)\n",
    "col = col.value_counts()\n",
    "\n",
    "tmpDf = col.rename(\"Count\").to_frame()\n",
    "tmpDf.at['No Answer', 'Count'] = INVITED - responses\n",
    "tmpDf['Percent'] = calcPercent(tmpDf['Count'])\n",
    "tmpDf"
   ]
  },
  {
   "cell_type": "code",
   "execution_count": null,
   "id": "dcab7063",
   "metadata": {},
   "outputs": [],
   "source": [
    "fig = plt.figure(figsize=(15,10))\n",
    "axes = fig.add_subplot()\n",
    "axes.set_title(COLUMNS[10], fontsize=18)\n",
    "plot = axes.bar(\n",
    "    x=tmpDf.index,\n",
    "    height=tmpDf['Count'],\n",
    "    color=BAR_COLORS\n",
    ")"
   ]
  },
  {
   "cell_type": "code",
   "execution_count": null,
   "id": "ea2f0c95",
   "metadata": {},
   "outputs": [],
   "source": [
    "del responses, col, tmpDf, fig, axes, plot"
   ]
  },
  {
   "cell_type": "markdown",
   "id": "50c224b8",
   "metadata": {},
   "source": [
    "# Retirement"
   ]
  },
  {
   "cell_type": "code",
   "execution_count": null,
   "id": "138bfb9f",
   "metadata": {},
   "outputs": [],
   "source": [
    "# Number of respondents that provided this datapoint\n",
    "col = df[COLUMNS[11]]\n",
    "responses = col.dropna().size\n",
    "print(f\"{responses} faculty answered this question for a {calcPercent(responses)}% response rate.\")"
   ]
  },
  {
   "cell_type": "code",
   "execution_count": null,
   "id": "379206ea",
   "metadata": {},
   "outputs": [],
   "source": [
    "# Chart counts and percentages\n",
    "col.fillna(value='No Answer', inplace=True)\n",
    "col = col.value_counts()\n",
    "\n",
    "tmpDf = col.rename(\"Count\").to_frame()\n",
    "tmpDf.at['No Answer', 'Count'] = INVITED - responses\n",
    "tmpDf['Percent'] = calcPercent(tmpDf['Count'])\n",
    "tmpDf"
   ]
  },
  {
   "cell_type": "code",
   "execution_count": null,
   "id": "0b934a13",
   "metadata": {},
   "outputs": [],
   "source": [
    "fig = plt.figure(figsize=(15,10))\n",
    "axes = fig.add_subplot()\n",
    "axes.set_title(COLUMNS[11], fontsize=18)\n",
    "plot = axes.bar(\n",
    "    x=tmpDf.index,\n",
    "    height=tmpDf['Count'],\n",
    "    color=BAR_COLORS\n",
    ")"
   ]
  },
  {
   "cell_type": "code",
   "execution_count": null,
   "id": "3ff68855",
   "metadata": {},
   "outputs": [],
   "source": [
    "del responses, col, tmpDf, fig, axes, plot"
   ]
  },
  {
   "cell_type": "markdown",
   "id": "e872064a",
   "metadata": {},
   "source": [
    "# Degrees"
   ]
  },
  {
   "cell_type": "code",
   "execution_count": null,
   "id": "6e962de3",
   "metadata": {},
   "outputs": [],
   "source": [
    "# Select degree columns\n",
    "tmpDf = df.iloc[:, 13:26]"
   ]
  },
  {
   "cell_type": "code",
   "execution_count": null,
   "id": "6a22ccbd",
   "metadata": {},
   "outputs": [],
   "source": [
    "# Count up how many survey respondents supplied degree data\n",
    "tmpDf['answered'] = 0\n",
    "for i in range(13, 26):\n",
    "    # For each degree column, select non-null responses and mark them in the 'answered' column\n",
    "    tmpDf.loc[~tmpDf[COLUMNS[i]].isnull(), 'answered'] = 1\n",
    "\n",
    "responses = tmpDf[tmpDf.answered == 1].shape[0]\n",
    "print(f\"{responses} faculty provide their degrees \" + \\\n",
    "      f\"for a {calcPercent(responses)}% response rate.\")\n",
    "\n",
    "# Remove rows with no degree data\n",
    "tmpDf.drop(tmpDf[tmpDf.answered == 0].index, inplace=True)\n",
    "# Cleanup work column\n",
    "tmpDf.drop('answered', axis=1, inplace=True)"
   ]
  },
  {
   "cell_type": "code",
   "execution_count": null,
   "id": "3f6d9bf5",
   "metadata": {},
   "outputs": [],
   "source": [
    "# Define and populate count table for each degree group, bearing in mind that\n",
    "# multiple degrees can be selected by a single respondent\n",
    "countDf = pd.DataFrame(columns=['Count', 'Percent'])\n",
    "\n",
    "# Clinical degrees\n",
    "tmpDf['Counter'] = tmpDf[COLUMNS[13]].str.cat(tmpDf[COLUMNS[14:16]], na_rep='')\n",
    "countDf.loc['Clinical', 'Count'] = tmpDf[tmpDf['Counter'].str.len() > 0].shape[0]\n",
    "\n",
    "# Non-clinical degrees\n",
    "tmpDf['Counter'] = tmpDf[COLUMNS[16]].str.cat(tmpDf[COLUMNS[17:19]], na_rep='')\n",
    "countDf.loc['Non-clinical', 'Count'] = tmpDf[tmpDf['Counter'].str.len() > 0].shape[0]\n",
    "\n",
    "# Other degrees\n",
    "tmpDf['Counter'] = tmpDf[COLUMNS[19]].str.cat(tmpDf[COLUMNS[20:26]], na_rep='')\n",
    "countDf.loc['Other', 'Count'] = tmpDf[tmpDf['Counter'].str.len() > 0].shape[0]\n",
    "\n",
    "# No degrees given\n",
    "countDf.loc['No Answer', 'Count'] = INVITED - responses\n",
    "\n",
    "# Calculate percentages\n",
    "countDf['Percent'] = countDf['Count'].apply(calcPercent)\n",
    "countDf"
   ]
  },
  {
   "cell_type": "code",
   "execution_count": null,
   "id": "ec97ade2",
   "metadata": {},
   "outputs": [],
   "source": [
    "fig = plt.figure(figsize=(15,10))\n",
    "axes = fig.add_subplot()\n",
    "axes.set_title('Degrees', fontsize=18)\n",
    "plot = axes.bar(\n",
    "    x=countDf.index,\n",
    "    height=countDf['Count'],\n",
    "    color=BAR_COLORS\n",
    ")"
   ]
  },
  {
   "cell_type": "code",
   "execution_count": null,
   "id": "fca4eb90",
   "metadata": {},
   "outputs": [],
   "source": [
    "del responses, tmpDf, countDf, fig, axes, plot"
   ]
  },
  {
   "cell_type": "markdown",
   "id": "d063b2d7",
   "metadata": {},
   "source": [
    "<hr style=\"border:3px solid gray\">\n",
    "\n",
    "# Setup - Pivot Bases"
   ]
  },
  {
   "cell_type": "code",
   "execution_count": null,
   "id": "1f1afd70",
   "metadata": {},
   "outputs": [],
   "source": [
    "# Suppress SettingWithCopyWarning since we are using the .loc indexing method instead of the [][]\n",
    "# chain indexing method it warns against.\n",
    "# pandas.pydata.org/pandas-docs/stable/user_guide/indexing.html#returning-a-view-versus-a-copy\n",
    "#pd.options.mode.chained_assignment = <'warn' || 'raise' || None>\n",
    "\n",
    "# Add rows representing those who didn't respond to the ACC using Sex at Birth as anchor column\n",
    "df[COLUMNS[0]].fillna('No Answer', inplace=True)\n",
    "for i in range(0, (INVITED - len(df))):\n",
    "    df.loc[len(df), COLUMNS[0]] = 'No Answer'\n",
    "\n",
    "# Fill in empty values in other categorical columns\n",
    "for i in [1, 9, 10, 11]:\n",
    "    df[COLUMNS[i]].fillna('No Answer', inplace=True)\n",
    "\n",
    "# Replace str values in multi-select column groups with boolean values\n",
    "# URIM Ethnicities\n",
    "for i in range(2, 9):\n",
    "    df.loc[df[COLUMNS[i]].notna(), COLUMNS[i]] = 1\n",
    "    df[COLUMNS[i]].fillna(0, inplace=True)\n",
    "\n",
    "# Degrees\n",
    "# Concatenate strings of different degree categories together then convert the combined strings\n",
    "# to boolean\n",
    "def isMember(x):\n",
    "    return 1 if len(x) > 0 else 0\n",
    "df['degClinical'] = df[COLUMNS[13]].str.cat(df[COLUMNS[14:16]], na_rep='').apply(isMember)\n",
    "df['degNonClinical'] = df[COLUMNS[16]].str.cat(df[COLUMNS[17:19]], na_rep='').apply(isMember)\n",
    "df['degOther'] = df[COLUMNS[19]].str.cat(df[COLUMNS[20:26]], na_rep='').apply(isMember)\n",
    "# Add degree category that represents those who did not provide degree data\n",
    "df['degNoAnswer'] = (df.iloc[:, -3] + df.iloc[:, -2] + df.iloc[:, -1]) \\\n",
    ".apply(lambda x: 1 if x == 0 else 0)\n",
    "\n",
    "del i, isMember"
   ]
  },
  {
   "cell_type": "markdown",
   "id": "b2caf57b",
   "metadata": {},
   "source": [
    "# HMS Promotion Interest\n",
    "\n",
    "## Overall"
   ]
  },
  {
   "cell_type": "code",
   "execution_count": null,
   "id": "372b5b43",
   "metadata": {},
   "outputs": [],
   "source": [
    "# Number of respondents that provided this datapoint\n",
    "responses = df[COLUMNS[12]].notna().sum()\n",
    "print(f\"{responses} faculty answered this question for a {calcPercent(responses)}% response rate.\")\n",
    "\n",
    "df[COLUMNS[12]].fillna(value='No Answer', inplace=True)"
   ]
  },
  {
   "cell_type": "code",
   "execution_count": null,
   "id": "61774c19",
   "metadata": {},
   "outputs": [],
   "source": [
    "# Chart counts and percentages\n",
    "col = df[COLUMNS[12]].value_counts()\n",
    "\n",
    "tmpDf = col.rename(\"Count\").to_frame()\n",
    "tmpDf['Percent'] = calcPercent(tmpDf['Count'])\n",
    "tmpDf"
   ]
  },
  {
   "cell_type": "code",
   "execution_count": null,
   "id": "fa12bcda",
   "metadata": {},
   "outputs": [],
   "source": [
    "fig = plt.figure(figsize=(15,10))\n",
    "axes = fig.add_subplot()\n",
    "axes.set_title(COLUMNS[12], fontsize=18)\n",
    "plot = axes.bar(\n",
    "    x=tmpDf.index,\n",
    "    height=tmpDf['Count'],\n",
    "    color=BAR_COLORS\n",
    ")"
   ]
  },
  {
   "cell_type": "code",
   "execution_count": null,
   "id": "dbd8478f",
   "metadata": {},
   "outputs": [],
   "source": [
    "del responses, tmpDf, fig, axes, plot"
   ]
  },
  {
   "cell_type": "markdown",
   "id": "1417f5ad",
   "metadata": {},
   "source": [
    "## Grouped by Sex at Birth"
   ]
  },
  {
   "cell_type": "code",
   "execution_count": null,
   "id": "787f65fc",
   "metadata": {},
   "outputs": [],
   "source": [
    "pivot = pd.crosstab(\n",
    "    df[COLUMNS[0]], df[COLUMNS[12]],\n",
    "    margins=True,\n",
    "    margins_name='Total'\n",
    ")\n",
    "# Reorder indices and columns\n",
    "pivot = pivot.loc[\n",
    "    ['No Answer', 'Female', 'Male', 'Total'],\n",
    "    ['No Answer', 'Yes', 'No', 'Total']\n",
    "]\n",
    "pivot"
   ]
  },
  {
   "cell_type": "markdown",
   "id": "c5d21349",
   "metadata": {},
   "source": [
    "### Example reading:\n",
    "\n",
    "Of those who did not indicate either way on HMS promotions:\n",
    " - 273 did not indicate their sex at birth\n",
    " - 12 were female at birth\n",
    " - 12 were male at birth\n",
    "\n",
    "Of those who expressed interest in HMS promotion:\n",
    " - 5 did not provide their sex at birth\n",
    " - 244 were female at birth\n",
    " - 216 were male at birth\n",
    "\n",
    "Of those who explicitly did not express interest in HMS promotion:\n",
    " - 3 did not provide their sex at birth\n",
    " - 166 were female at birth\n",
    " - 164 were male at birth"
   ]
  },
  {
   "cell_type": "markdown",
   "id": "5967a1f6",
   "metadata": {},
   "source": [
    "### Example of calculating percentages for a given category"
   ]
  },
  {
   "cell_type": "code",
   "execution_count": null,
   "id": "3dba4be9",
   "metadata": {},
   "outputs": [],
   "source": [
    "# Example percentage calculation for a given category\n",
    "category = pivot.loc['Female']\n",
    "total = category.pop('Total')\n",
    "category.apply(calcPercent, denominator=total)"
   ]
  },
  {
   "cell_type": "code",
   "execution_count": null,
   "id": "fcf3e590",
   "metadata": {},
   "outputs": [],
   "source": [
    "del pivot, category, total"
   ]
  }
 ],
 "metadata": {
  "kernelspec": {
   "display_name": "Python 3 (ipykernel)",
   "language": "python",
   "name": "python3"
  },
  "language_info": {
   "codemirror_mode": {
    "name": "ipython",
    "version": 3
   },
   "file_extension": ".py",
   "mimetype": "text/x-python",
   "name": "python",
   "nbconvert_exporter": "python",
   "pygments_lexer": "ipython3",
   "version": "3.9.15"
  }
 },
 "nbformat": 4,
 "nbformat_minor": 5
}
