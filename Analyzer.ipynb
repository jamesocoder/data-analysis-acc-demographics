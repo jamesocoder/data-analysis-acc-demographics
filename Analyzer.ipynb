{
 "cells": [
  {
   "cell_type": "markdown",
   "id": "cb0d1820",
   "metadata": {},
   "source": [
    "# Setup - General"
   ]
  },
  {
   "cell_type": "code",
   "execution_count": null,
   "id": "715ecd61",
   "metadata": {},
   "outputs": [],
   "source": [
    "# Set up environment and define shape of data\n",
    "import pandas as pd\n",
    "import matplotlib.pyplot as plt\n",
    "from datetime import datetime\n",
    "\n",
    "pd.set_option('display.max_colwidth', None)\n",
    "\n",
    "# List of columns to analyze\n",
    "# Note that pandas will make any duplicate column names unique by appending a sequence number\n",
    "# to subsequent occurences of them when importing said data\n",
    "# (e.g. HMS Rank, HMS Rank.1, HMS Rank.2, etc.)\n",
    "SCHEMA = {\n",
    "    '1. Sex assigned at birth': 'string',\n",
    "    '2. Gender Identity': 'string',\n",
    "    'Black or African American': 'string',\n",
    "    'Hispanic or Latino': 'string',\n",
    "    'American Indian or Alaskan Native': 'string',\n",
    "    'Native Hawaiian and other Pacific Islander': 'string',\n",
    "    'Cambodian or Laotian': 'string',\n",
    "    'None': 'string',\n",
    "    'Prefer not to answer': 'string',\n",
    "    '4. Identification as ': 'string',\n",
    "    '5. Requirement for workplace accommodations: (Reasonable accommodations in the ' + \\\n",
    "    'workplace support people with disability and/or chronic health conditions in ' + \\\n",
    "    'performing their jobs.) If you would like more information about obtaining ' + \\\n",
    "    'accommodations, contact MGH OHS.': 'string',\n",
    "    '1. Are you considering or engaging in the process of retirement? ': 'string',\n",
    "    '2. Are you interested in learning more about HMS promotions and discussing advancement ' + \\\n",
    "    'on the HMS ladder? ': 'string',\n",
    "    'MD': 'string',\n",
    "    'MBChB': 'string',\n",
    "    'DO': 'string',\n",
    "    'PhD': 'string',\n",
    "    'DPhil': 'string',\n",
    "    'Sci D': 'string',\n",
    "    'RDN': 'string',\n",
    "    'MS': 'string',\n",
    "    'MSN': 'string',\n",
    "    'MPH': 'string',\n",
    "    'MPA': 'string',\n",
    "    'MBA': 'string',\n",
    "    'Other': 'string',\n",
    "    'i. HMS Rank': 'string',\n",
    "    'ii. Date (yyyy)': 'string',\n",
    "    'i. HMS Rank.1': 'string',\n",
    "    'ii. Date (yyyy).1': 'string',\n",
    "    'i. HMS Rank.2': 'string',\n",
    "    'ii. Date (yyyy).2': 'string',\n",
    "    'i. HMS Rank.3': 'string',\n",
    "    'ii. Date (yyyy).3': 'string',\n",
    "    'i. HMS Rank.4': 'string',\n",
    "    'ii. Date (yyyy).4': 'string',\n",
    "    'i. Job Title': 'string',\n",
    "    'ii. Date (yyyy).5': 'string',\n",
    "    'i. Job Title.1': 'string',\n",
    "    'ii. Date (yyyy).6': 'string',\n",
    "    'i. Job Title.2': 'string',\n",
    "    'ii. Date (yyyy).7': 'string',\n",
    "    'i. Job Title.3': 'string',\n",
    "    'ii. Date (yyyy).8': 'string',\n",
    "    'i. Job Title.4': 'string',\n",
    "    'ii. Date (yyyy).9': 'string',\n",
    "}\n",
    "\n",
    "# Column label capitalization is inconsistent between data sets\n",
    "# Convert all names to lowercase\n",
    "SCHEMA = {key.lower(): val for key, val in SCHEMA.items()}\n",
    "\n",
    "# Store a list of column labels for easier reference\n",
    "COLUMNS = list(SCHEMA.keys())\n",
    "\n",
    "# Create scaffolding for DataFrame that will house concatenated datasets\n",
    "df = pd.DataFrame(columns=COLUMNS).astype(SCHEMA)\n",
    "\n",
    "# Helper for percentage formula\n",
    "# Default denominator is the total number of faculty invited to complete the survey\n",
    "INVITED = 1095\n",
    "def calcPercent(numerator, denominator=INVITED):\n",
    "    return round(numerator / denominator * 100, 2)\n",
    "\n",
    "# Bar graph bar colors\n",
    "BAR_COLORS = ['red','blue','gray', 'pink', 'purple', 'yellow', 'green', 'orange']\n",
    "\n",
    "# Create and open a file for dumping data\n",
    "DUMP = pd.ExcelWriter('DataDump.xlsx')"
   ]
  },
  {
   "cell_type": "code",
   "execution_count": null,
   "id": "773ad085",
   "metadata": {},
   "outputs": [],
   "source": [
    "# Load all datasets into memory\n",
    "\n",
    "from pathlib import Path\n",
    "\n",
    "for filepath in Path(\"./data\").iterdir():\n",
    "    if filepath.is_file():\n",
    "        print(f\"Importing {filepath}\")\n",
    "        rawDf = pd.read_excel(\n",
    "            filepath,\n",
    "            header=0,\n",
    "            engine=\"openpyxl\"\n",
    "        )\n",
    "        # Convert raw column names to lowercase\n",
    "        rawDf.rename(columns=str.lower, inplace=True)\n",
    "        # Select only the COLUMNS we are interested in\n",
    "        rawDf = rawDf.filter(items=COLUMNS)\n",
    "        # Clear out blank rows\n",
    "        trimmedDf = rawDf.dropna(how='all')\n",
    "        print(\n",
    "            f\"{rawDf.shape[0] - trimmedDf.shape[0]} blank rows dropped.  \" + \\\n",
    "            f\"Remaining rows: {trimmedDf.shape[0]}.\\n\"\n",
    "        )\n",
    "        # Append rows to main DataFrame\n",
    "        initial = df.shape[0]\n",
    "        df = pd.concat([df, trimmedDf], ignore_index=True)\n",
    "        del rawDf, trimmedDf, initial\n",
    "\n",
    "del Path, filepath"
   ]
  },
  {
   "cell_type": "markdown",
   "id": "4bf0ce6a",
   "metadata": {},
   "source": [
    "<hr style=\"border:3px solid gray\">\n",
    "\n",
    "# Individual datapoint analysis\n",
    "\n",
    "# Dataset Size"
   ]
  },
  {
   "cell_type": "code",
   "execution_count": null,
   "id": "bd817045",
   "metadata": {},
   "outputs": [],
   "source": [
    "print(\n",
    "    f\"{df.shape[0]} faculty provided at least some demographic or rank data for a \" + \\\n",
    "    f\"{calcPercent(df.shape[0])}% overall response rate.\"\n",
    ")"
   ]
  },
  {
   "cell_type": "markdown",
   "id": "b2840ba3",
   "metadata": {},
   "source": [
    "# Sex at Birth"
   ]
  },
  {
   "cell_type": "code",
   "execution_count": null,
   "id": "cf38afb3",
   "metadata": {},
   "outputs": [],
   "source": [
    "# Number of respondents that provided this datapoint\n",
    "col = df[COLUMNS[0]]\n",
    "responses = col.dropna().size\n",
    "print(f\"{responses} faculty answered this question for a {calcPercent(responses)}% response rate.\")"
   ]
  },
  {
   "cell_type": "code",
   "execution_count": null,
   "id": "287f3139",
   "metadata": {},
   "outputs": [],
   "source": [
    "# Chart counts and percentages\n",
    "col.fillna(value='No Answer', inplace=True)\n",
    "# Count the occurences of each unique value in the column\n",
    "col = col.value_counts()\n",
    "\n",
    "# Create a table with the unique values as the row names\n",
    "tmpDf = col.rename(\"Count\").to_frame()\n",
    "# Calculate how many did not answer this question\n",
    "tmpDf.at['No Answer', 'Count'] = INVITED - tmpDf.iloc[:2, 0].sum()\n",
    "# Calculate percentages for each unique value\n",
    "tmpDf['Percent'] = calcPercent(tmpDf['Count'])\n",
    "tmpDf.to_excel(DUMP, 'Sex')\n",
    "tmpDf"
   ]
  },
  {
   "cell_type": "code",
   "execution_count": null,
   "id": "0122631d",
   "metadata": {},
   "outputs": [],
   "source": [
    "plt.bar(\n",
    "    x=tmpDf.index,\n",
    "    height=tmpDf['Count'],\n",
    "    color=BAR_COLORS\n",
    ")\n",
    "plt.title(COLUMNS[0], fontsize=18)"
   ]
  },
  {
   "cell_type": "code",
   "execution_count": null,
   "id": "6d187e6a",
   "metadata": {},
   "outputs": [],
   "source": [
    "del responses, col, tmpDf"
   ]
  },
  {
   "cell_type": "markdown",
   "id": "f88ee670",
   "metadata": {},
   "source": [
    "# Gender"
   ]
  },
  {
   "cell_type": "code",
   "execution_count": null,
   "id": "e29f7b35",
   "metadata": {},
   "outputs": [],
   "source": [
    "# Number of respondents that provided this datapoint\n",
    "col = df[COLUMNS[1]]\n",
    "responses = col.dropna().size\n",
    "print(f\"{responses} faculty answered this question for a {calcPercent(responses)}% response rate.\")"
   ]
  },
  {
   "cell_type": "code",
   "execution_count": null,
   "id": "aec6966c",
   "metadata": {},
   "outputs": [],
   "source": [
    "# Chart counts and percentages\n",
    "col.fillna(value='No Answer', inplace=True)\n",
    "col = col.value_counts()\n",
    "\n",
    "tmpDf = col.rename(\"Count\").to_frame()\n",
    "tmpDf.at['No Answer', 'Count'] = INVITED - tmpDf.iloc[:2, 0].sum() - tmpDf.iloc[3:, 0].sum()\n",
    "tmpDf['Percent'] = calcPercent(tmpDf['Count'])\n",
    "tmpDf.to_excel(DUMP, 'Gender')\n",
    "tmpDf"
   ]
  },
  {
   "cell_type": "code",
   "execution_count": null,
   "id": "f79b07d9",
   "metadata": {},
   "outputs": [],
   "source": [
    "fig = plt.figure(figsize=(15,10))\n",
    "axes = fig.add_subplot()\n",
    "axes.set_title(COLUMNS[1], fontsize=18)\n",
    "plot = axes.bar(\n",
    "    x=tmpDf.index,\n",
    "    height=tmpDf['Count'],\n",
    "    color=BAR_COLORS\n",
    ")"
   ]
  },
  {
   "cell_type": "code",
   "execution_count": null,
   "id": "78dc09ed",
   "metadata": {},
   "outputs": [],
   "source": [
    "del responses, col, tmpDf, fig, axes, plot"
   ]
  },
  {
   "cell_type": "markdown",
   "id": "22ddd34e",
   "metadata": {},
   "source": [
    "# URIM"
   ]
  },
  {
   "cell_type": "code",
   "execution_count": null,
   "id": "361eb89f",
   "metadata": {},
   "outputs": [],
   "source": [
    "# Select URIM columns\n",
    "tmpDf = df.iloc[:, 2:9]"
   ]
  },
  {
   "cell_type": "code",
   "execution_count": null,
   "id": "1736fc90",
   "metadata": {},
   "outputs": [],
   "source": [
    "# Count up how many survey respondents supplied URIM data\n",
    "tmpDf['answered'] = 0\n",
    "for i in range(2, 9):\n",
    "    # For each URIM column, select non-null responses and mark them in the 'answered' column\n",
    "    tmpDf.loc[~tmpDf[COLUMNS[i]].isnull(), 'answered'] = 1\n",
    "\n",
    "responses = tmpDf[tmpDf.answered == 1].shape[0]\n",
    "print(f\"{responses} faculty answered the URIM question \" + \\\n",
    "      f\"for a {calcPercent(responses)}% response rate.\")\n",
    "\n",
    "# Remove rows with no URIM data\n",
    "tmpDf.drop(tmpDf[tmpDf.answered == 0].index, inplace=True)\n",
    "# Cleanup work column\n",
    "tmpDf.drop('answered', axis=1, inplace=True)"
   ]
  },
  {
   "cell_type": "code",
   "execution_count": null,
   "id": "8c638150",
   "metadata": {},
   "outputs": [],
   "source": [
    "# Define and populate count table for each demographic, bearing in mind that\n",
    "# multiple ethnicities can be selected by a single respondent\n",
    "countDf = pd.DataFrame(columns=['Count', 'Percent'])\n",
    "for i in range(2, 9):\n",
    "    count = len(tmpDf[~tmpDf[COLUMNS[i]].isnull()])\n",
    "    countDf.loc[COLUMNS[i]] = [\n",
    "        count,\n",
    "        calcPercent(count)\n",
    "    ]\n",
    "\n",
    "countDf.loc['No Answer', 'Count'] = INVITED - responses\n",
    "countDf.loc['No Answer', 'Percent'] = calcPercent(countDf.at['No Answer', 'Count'])\n",
    "\n",
    "\n",
    "countDf['Count'] = countDf['Count'].astype(int)\n",
    "countDf.to_excel(DUMP, 'URiM')\n",
    "countDf"
   ]
  },
  {
   "cell_type": "markdown",
   "id": "aaad4293",
   "metadata": {},
   "source": [
    "\"Prefer not to answer\" and \"No answer\" are kept separate because they represent different nuances.  The former represents respondents who were willing to participate to at least some degree, while the latter represents respondents who chose not to answer at all."
   ]
  },
  {
   "cell_type": "code",
   "execution_count": null,
   "id": "c01df65f",
   "metadata": {},
   "outputs": [],
   "source": [
    "del responses, tmpDf, count, countDf"
   ]
  },
  {
   "cell_type": "markdown",
   "id": "e543886b",
   "metadata": {},
   "source": [
    "# Orientation"
   ]
  },
  {
   "cell_type": "code",
   "execution_count": null,
   "id": "c39c9855",
   "metadata": {},
   "outputs": [],
   "source": [
    "# Number of respondents that provided this datapoint\n",
    "col = df[COLUMNS[9]]\n",
    "responses = col.dropna().size\n",
    "print(f\"{responses} faculty answered this question for a {calcPercent(responses)}% response rate.\")"
   ]
  },
  {
   "cell_type": "code",
   "execution_count": null,
   "id": "1d541d65",
   "metadata": {},
   "outputs": [],
   "source": [
    "# Chart counts and percentages\n",
    "col.fillna(value='No Answer', inplace=True)\n",
    "col = col.value_counts()\n",
    "\n",
    "tmpDf = col.rename(\"Count\").to_frame()\n",
    "tmpDf.at['No Answer', 'Count'] = INVITED - tmpDf.iloc[:2, 0].sum() - tmpDf.iloc[3:, 0].sum()\n",
    "tmpDf['Percent'] = calcPercent(tmpDf['Count'])\n",
    "tmpDf.to_excel(DUMP, 'Orientation')\n",
    "tmpDf"
   ]
  },
  {
   "cell_type": "code",
   "execution_count": null,
   "id": "170506b3",
   "metadata": {},
   "outputs": [],
   "source": [
    "fig = plt.figure(figsize=(15,10))\n",
    "axes = fig.add_subplot()\n",
    "axes.set_title(COLUMNS[9], fontsize=18)\n",
    "plot = axes.bar(\n",
    "    x=tmpDf.index,\n",
    "    height=tmpDf['Count'],\n",
    "    color=BAR_COLORS\n",
    ")"
   ]
  },
  {
   "cell_type": "code",
   "execution_count": null,
   "id": "21e5a1a7",
   "metadata": {},
   "outputs": [],
   "source": [
    "del responses, col, tmpDf, fig, axes, plot"
   ]
  },
  {
   "cell_type": "markdown",
   "id": "bceb9a28",
   "metadata": {},
   "source": [
    "# Accomodations"
   ]
  },
  {
   "cell_type": "code",
   "execution_count": null,
   "id": "5f76b949",
   "metadata": {},
   "outputs": [],
   "source": [
    "# Number of respondents that provided this datapoint\n",
    "col = df[COLUMNS[10]]\n",
    "responses = col.dropna().size\n",
    "print(f\"{responses} faculty answered this question for a {calcPercent(responses)}% response rate.\")"
   ]
  },
  {
   "cell_type": "code",
   "execution_count": null,
   "id": "1cfea5ac",
   "metadata": {},
   "outputs": [],
   "source": [
    "# Chart counts and percentages\n",
    "col.fillna(value='No Answer', inplace=True)\n",
    "col = col.value_counts()\n",
    "\n",
    "tmpDf = col.rename(\"Count\").to_frame()\n",
    "tmpDf.at['No Answer', 'Count'] = INVITED - responses\n",
    "tmpDf['Percent'] = calcPercent(tmpDf['Count'])\n",
    "tmpDf.to_excel(DUMP, 'Handicap')\n",
    "tmpDf"
   ]
  },
  {
   "cell_type": "code",
   "execution_count": null,
   "id": "dcab7063",
   "metadata": {},
   "outputs": [],
   "source": [
    "fig = plt.figure(figsize=(15,10))\n",
    "axes = fig.add_subplot()\n",
    "axes.set_title(COLUMNS[10], fontsize=18)\n",
    "plot = axes.bar(\n",
    "    x=tmpDf.index,\n",
    "    height=tmpDf['Count'],\n",
    "    color=BAR_COLORS\n",
    ")"
   ]
  },
  {
   "cell_type": "code",
   "execution_count": null,
   "id": "ea2f0c95",
   "metadata": {},
   "outputs": [],
   "source": [
    "del responses, col, tmpDf, fig, axes, plot"
   ]
  },
  {
   "cell_type": "markdown",
   "id": "50c224b8",
   "metadata": {},
   "source": [
    "# Retirement"
   ]
  },
  {
   "cell_type": "code",
   "execution_count": null,
   "id": "138bfb9f",
   "metadata": {},
   "outputs": [],
   "source": [
    "# Number of respondents that provided this datapoint\n",
    "col = df[COLUMNS[11]]\n",
    "responses = col.dropna().size\n",
    "print(f\"{responses} faculty answered this question for a {calcPercent(responses)}% response rate.\")"
   ]
  },
  {
   "cell_type": "code",
   "execution_count": null,
   "id": "379206ea",
   "metadata": {},
   "outputs": [],
   "source": [
    "# Chart counts and percentages\n",
    "col.fillna(value='No Answer', inplace=True)\n",
    "col = col.value_counts()\n",
    "\n",
    "tmpDf = col.rename(\"Count\").to_frame()\n",
    "tmpDf.at['No Answer', 'Count'] = INVITED - responses\n",
    "tmpDf['Percent'] = calcPercent(tmpDf['Count'])\n",
    "tmpDf.to_excel(DUMP, 'Retirement')\n",
    "tmpDf"
   ]
  },
  {
   "cell_type": "code",
   "execution_count": null,
   "id": "0b934a13",
   "metadata": {},
   "outputs": [],
   "source": [
    "fig = plt.figure(figsize=(15,10))\n",
    "axes = fig.add_subplot()\n",
    "axes.set_title(COLUMNS[11], fontsize=18)\n",
    "plot = axes.bar(\n",
    "    x=tmpDf.index,\n",
    "    height=tmpDf['Count'],\n",
    "    color=BAR_COLORS\n",
    ")"
   ]
  },
  {
   "cell_type": "code",
   "execution_count": null,
   "id": "3ff68855",
   "metadata": {},
   "outputs": [],
   "source": [
    "del responses, col, tmpDf, fig, axes, plot"
   ]
  },
  {
   "cell_type": "markdown",
   "id": "e872064a",
   "metadata": {},
   "source": [
    "# Degrees"
   ]
  },
  {
   "cell_type": "code",
   "execution_count": null,
   "id": "6e962de3",
   "metadata": {},
   "outputs": [],
   "source": [
    "# Select degree columns\n",
    "tmpDf = df.iloc[:, 13:26]"
   ]
  },
  {
   "cell_type": "code",
   "execution_count": null,
   "id": "6a22ccbd",
   "metadata": {},
   "outputs": [],
   "source": [
    "# Count up how many survey respondents supplied degree data\n",
    "tmpDf['answered'] = 0\n",
    "for i in range(13, 26):\n",
    "    # For each degree column, select non-null responses and mark them in the 'answered' column\n",
    "    tmpDf.loc[~tmpDf[COLUMNS[i]].isnull(), 'answered'] = 1\n",
    "\n",
    "responses = tmpDf[tmpDf.answered == 1].shape[0]\n",
    "print(f\"{responses} faculty provide their degrees \" + \\\n",
    "      f\"for a {calcPercent(responses)}% response rate.\")\n",
    "\n",
    "# Remove rows with no degree data\n",
    "tmpDf.drop(tmpDf[tmpDf.answered == 0].index, inplace=True)\n",
    "# Cleanup work column\n",
    "tmpDf.drop('answered', axis=1, inplace=True)"
   ]
  },
  {
   "cell_type": "code",
   "execution_count": null,
   "id": "3f6d9bf5",
   "metadata": {},
   "outputs": [],
   "source": [
    "# Define and populate count table for each degree group, bearing in mind that\n",
    "# multiple degrees can be selected by a single respondent\n",
    "countDf = pd.DataFrame(columns=['Count', 'Percent'])\n",
    "\n",
    "# Clinical degrees\n",
    "tmpDf['Counter'] = tmpDf[COLUMNS[13]].str.cat(tmpDf[COLUMNS[14:16]], na_rep='')\n",
    "countDf.loc['Clinical', 'Count'] = tmpDf[tmpDf['Counter'].str.len() > 0].shape[0]\n",
    "\n",
    "# Non-clinical degrees\n",
    "tmpDf['Counter'] = tmpDf[COLUMNS[16]].str.cat(tmpDf[COLUMNS[17:19]], na_rep='')\n",
    "countDf.loc['Non-clinical', 'Count'] = tmpDf[tmpDf['Counter'].str.len() > 0].shape[0]\n",
    "\n",
    "# Other degrees\n",
    "tmpDf['Counter'] = tmpDf[COLUMNS[19]].str.cat(tmpDf[COLUMNS[20:26]], na_rep='')\n",
    "countDf.loc['Other', 'Count'] = tmpDf[tmpDf['Counter'].str.len() > 0].shape[0]\n",
    "\n",
    "# No degrees given\n",
    "countDf.loc['No Answer', 'Count'] = INVITED - responses\n",
    "\n",
    "# Calculate percentages\n",
    "countDf['Percent'] = countDf['Count'].apply(calcPercent)\n",
    "countDf.to_excel(DUMP, 'Degrees')\n",
    "countDf"
   ]
  },
  {
   "cell_type": "code",
   "execution_count": null,
   "id": "a33cb42c",
   "metadata": {},
   "outputs": [],
   "source": [
    "fig = plt.figure(figsize=(15,10))\n",
    "axes = fig.add_subplot()\n",
    "axes.set_title('Degrees', fontsize=18)\n",
    "plot = axes.bar(\n",
    "    x=countDf.index,\n",
    "    height=countDf['Count'],\n",
    "    color=BAR_COLORS\n",
    ")"
   ]
  },
  {
   "cell_type": "code",
   "execution_count": null,
   "id": "fca4eb90",
   "metadata": {},
   "outputs": [],
   "source": [
    "del responses, tmpDf, countDf, fig, axes, plot"
   ]
  },
  {
   "cell_type": "markdown",
   "id": "bc3cbee6",
   "metadata": {},
   "source": [
    "<hr style=\"border:3px solid gray\">\n",
    "\n",
    "# Setup - Pivot Base"
   ]
  },
  {
   "cell_type": "code",
   "execution_count": null,
   "id": "b81b40b0",
   "metadata": {},
   "outputs": [],
   "source": [
    "# Suppress SettingWithCopyWarning since we are using the .loc indexing method instead of the [][]\n",
    "# chain indexing method it warns against.\n",
    "# pandas.pydata.org/pandas-docs/stable/user_guide/indexing.html#returning-a-view-versus-a-copy\n",
    "#pd.options.mode.chained_assignment = <'warn' || 'raise' || None>\n",
    "\n",
    "# Add rows representing those who didn't respond to the ACC using Sex at Birth as anchor column\n",
    "df[COLUMNS[0]].fillna('No Answer', inplace=True)\n",
    "for i in range(0, (INVITED - len(df))):\n",
    "    df.loc[len(df), COLUMNS[0]] = 'No Answer'\n",
    "\n",
    "# Fill in empty values in other categorical columns\n",
    "for i in [1, 9, 10, 11]:\n",
    "    df[COLUMNS[i]].fillna('No Answer', inplace=True)\n",
    "\n",
    "# Replace str values in multi-select column groups with boolean values\n",
    "# URIM Ethnicities\n",
    "for i in range(2, 9):\n",
    "    df.loc[df[COLUMNS[i]].notna(), COLUMNS[i]] = 1\n",
    "    df[COLUMNS[i]].fillna(0, inplace=True)\n",
    "# Note rows that have not answered the URIM question\n",
    "df['urmNoAnswer'] = df.iloc[:, 2:9].sum(axis=1).apply(lambda x: 1 if x == 0 else 0)\n",
    "COLUMNS += ['urmNoAnswer']\n",
    "\n",
    "# Degrees\n",
    "# List of translated degree column names\n",
    "COLS_DEGR = [\n",
    "    'degNoAnswer',\n",
    "    'degClinical',\n",
    "    'degNonClinical',\n",
    "    'degOther'\n",
    "]\n",
    "COLUMNS += COLS_DEGR\n",
    "# Concatenate strings of different degree categories together then convert the combined strings\n",
    "# to boolean\n",
    "def isMember(x):\n",
    "    return 1 if len(x) > 0 else 0\n",
    "df[COLS_DEGR[1]] = df[COLUMNS[13]].str.cat(df[COLUMNS[14:16]], na_rep='').apply(isMember)\n",
    "df[COLS_DEGR[2]] = df[COLUMNS[16]].str.cat(df[COLUMNS[17:19]], na_rep='').apply(isMember)\n",
    "df[COLS_DEGR[3]] = df[COLUMNS[19]].str.cat(df[COLUMNS[20:26]], na_rep='').apply(isMember)\n",
    "# Add degree category that represents those who did not provide degree data\n",
    "df[COLS_DEGR[0]] = (df.iloc[:, -3] + df.iloc[:, -2] + df.iloc[:, -1]) \\\n",
    ".apply(lambda x: 1 if x == 0 else 0)\n",
    "\n",
    "# After this setup, new, transformed columns will have been added to the end of the dataframe:\n",
    "# -5 = urmNoAnswer\n",
    "# -4 = degClinical\n",
    "# -3 = degNonClinical\n",
    "# -2 = degOther\n",
    "# -1 = degNoAnswer\n",
    "\n",
    "# Assemble list of URIM column names\n",
    "COLS_URIM = []\n",
    "for i in ([-5] + list(range(2, 9))):\n",
    "    COLS_URIM.append(df.iloc[:1, i].name)\n",
    "\n",
    "del i, isMember"
   ]
  },
  {
   "cell_type": "markdown",
   "id": "4a58537b",
   "metadata": {},
   "source": [
    "<hr style=\"border:3px solid gray\">\n",
    "\n",
    "# HMS Promotion Interest\n",
    "\n",
    "## Setup"
   ]
  },
  {
   "cell_type": "code",
   "execution_count": null,
   "id": "c4366ea9",
   "metadata": {},
   "outputs": [],
   "source": [
    "# Number of respondents that provided this datapoint\n",
    "responses = df[COLUMNS[12]].notna().sum()\n",
    "print(f\"{responses} faculty answered this question for a {calcPercent(responses)}% response rate.\")\n",
    "\n",
    "# Fill in NaN values in target column\n",
    "df[COLUMNS[12]].fillna(value='No Answer', inplace=True)\n",
    "\n",
    "# Define order that target column's values will be listed in in the pivot table\n",
    "COLUMN_ORDER = ['No Answer', 'Yes', 'No', 'Total']\n",
    "\n",
    "del responses"
   ]
  },
  {
   "cell_type": "markdown",
   "id": "416ba1df",
   "metadata": {},
   "source": [
    "## Overall"
   ]
  },
  {
   "cell_type": "code",
   "execution_count": null,
   "id": "d0086a3f",
   "metadata": {},
   "outputs": [],
   "source": [
    "# Chart counts and percentages\n",
    "col = df[COLUMNS[12]].value_counts()\n",
    "\n",
    "tmpDf = col.rename(\"Count\").to_frame()\n",
    "tmpDf['Percent'] = calcPercent(tmpDf['Count'])\n",
    "tmpDf.to_excel(DUMP, 'HmsPromoInterest')\n",
    "tmpDf"
   ]
  },
  {
   "cell_type": "code",
   "execution_count": null,
   "id": "fd19bb27",
   "metadata": {},
   "outputs": [],
   "source": [
    "fig = plt.figure(figsize=(15,10))\n",
    "axes = fig.add_subplot()\n",
    "axes.set_title(COLUMNS[12], fontsize=18)\n",
    "plot = axes.bar(\n",
    "    x=tmpDf.index,\n",
    "    height=tmpDf['Count'],\n",
    "    color=BAR_COLORS\n",
    ")"
   ]
  },
  {
   "cell_type": "code",
   "execution_count": null,
   "id": "c58cb5e6",
   "metadata": {},
   "outputs": [],
   "source": [
    "del tmpDf, fig, axes, plot"
   ]
  },
  {
   "cell_type": "markdown",
   "id": "2a8b0f73",
   "metadata": {},
   "source": [
    "## Grouped by Sex at Birth"
   ]
  },
  {
   "cell_type": "code",
   "execution_count": null,
   "id": "4837f422",
   "metadata": {},
   "outputs": [],
   "source": [
    "pivot = pd.crosstab(\n",
    "    df[COLUMNS[0]], df[COLUMNS[12]],\n",
    "    margins=True,\n",
    "    margins_name='Total'\n",
    ")\n",
    "# Reorder indices and columns\n",
    "pivot = pivot.loc[\n",
    "    ['No Answer', 'Female', 'Male', 'Total'],\n",
    "    COLUMN_ORDER\n",
    "]\n",
    "pivot.to_excel(DUMP, 'HmsPromoBySex')\n",
    "pivot"
   ]
  },
  {
   "cell_type": "markdown",
   "id": "5d49c03c",
   "metadata": {},
   "source": [
    "### Example reading:\n",
    "\n",
    "Of those who did not indicate either way on HMS promotions:\n",
    " - 273 did not indicate their sex at birth\n",
    " - 12 were female at birth\n",
    " - 12 were male at birth\n",
    "\n",
    "Of those who expressed interest in HMS promotion:\n",
    " - 5 did not provide their sex at birth\n",
    " - 244 were female at birth\n",
    " - 216 were male at birth\n",
    "\n",
    "Of those who explicitly did not express interest in HMS promotion:\n",
    " - 3 did not provide their sex at birth\n",
    " - 166 were female at birth\n",
    " - 164 were male at birth"
   ]
  },
  {
   "cell_type": "markdown",
   "id": "e9f8c485",
   "metadata": {},
   "source": [
    "### Example of calculating percentages for a given category"
   ]
  },
  {
   "cell_type": "code",
   "execution_count": null,
   "id": "27a8abd9",
   "metadata": {},
   "outputs": [],
   "source": [
    "# Example percentage calculation for a given category\n",
    "category = pivot.loc['Female']\n",
    "total = category.pop('Total')\n",
    "category.apply(calcPercent, denominator=total)"
   ]
  },
  {
   "cell_type": "code",
   "execution_count": null,
   "id": "b5af9502",
   "metadata": {},
   "outputs": [],
   "source": [
    "del pivot, category, total"
   ]
  },
  {
   "cell_type": "markdown",
   "id": "e3313b0a",
   "metadata": {},
   "source": [
    "## Grouped by Gender"
   ]
  },
  {
   "cell_type": "code",
   "execution_count": null,
   "id": "af4a7676",
   "metadata": {},
   "outputs": [],
   "source": [
    "pivot = pd.crosstab(\n",
    "    df[COLUMNS[1]], df[COLUMNS[12]],\n",
    "    margins=True,\n",
    "    margins_name='Total'\n",
    ")\n",
    "# Reorder indices and columns\n",
    "pivot = pivot.loc[\n",
    "    ['No Answer', 'Woman', 'Man', 'Prefer not to answer', 'Nonbinary', 'Total'],\n",
    "    COLUMN_ORDER\n",
    "]\n",
    "pivot.to_excel(DUMP, 'HmsPromoByGender')\n",
    "pivot"
   ]
  },
  {
   "cell_type": "code",
   "execution_count": null,
   "id": "c489fac3",
   "metadata": {},
   "outputs": [],
   "source": [
    "del pivot"
   ]
  },
  {
   "cell_type": "markdown",
   "id": "0ca561f9",
   "metadata": {},
   "source": [
    "## Grouped by URIM Status"
   ]
  },
  {
   "cell_type": "code",
   "execution_count": null,
   "id": "e9d4e233",
   "metadata": {
    "scrolled": false
   },
   "outputs": [],
   "source": [
    "# Assemble crosstabbed rows\n",
    "rows = []\n",
    "for col in COLS_URIM:\n",
    "    pivot = pd.crosstab(\n",
    "        df.loc[df[col] == 1, col],\n",
    "        df[COLUMNS[12]],\n",
    "        margins=True,\n",
    "        margins_name='Total'\n",
    "    )\n",
    "    \n",
    "    # Check for and add unrepresented HMS Promo Question answers to current category\n",
    "    row = pivot.loc[1].rename(col)\n",
    "    for answer in COLUMN_ORDER:\n",
    "        if answer not in row.index:\n",
    "            row.at[answer] = 0\n",
    "    \n",
    "    # Append crosstabbed series to list\n",
    "    rows.append(row)"
   ]
  },
  {
   "cell_type": "markdown",
   "id": "10a7d941",
   "metadata": {},
   "source": [
    "<b>Interest in HMS Promotion by URIM Identity</b>"
   ]
  },
  {
   "cell_type": "code",
   "execution_count": null,
   "id": "9098fc41",
   "metadata": {},
   "outputs": [],
   "source": [
    "tmpDf = pd.DataFrame(rows, columns=COLUMN_ORDER)\n",
    "tmpDf.to_excel(DUMP, 'HmsPromoByURiM')\n",
    "tmpDf"
   ]
  },
  {
   "cell_type": "code",
   "execution_count": null,
   "id": "06ac2daf",
   "metadata": {},
   "outputs": [],
   "source": [
    "del rows, col, pivot, row, answer, tmpDf"
   ]
  },
  {
   "cell_type": "markdown",
   "id": "0c489708",
   "metadata": {},
   "source": [
    "## Grouped by Orientation"
   ]
  },
  {
   "cell_type": "code",
   "execution_count": null,
   "id": "88cbf10e",
   "metadata": {},
   "outputs": [],
   "source": [
    "pivot = pd.crosstab(\n",
    "    df[COLUMNS[9]], df[COLUMNS[12]],\n",
    "    margins=True,\n",
    "    margins_name='Total'\n",
    ")\n",
    "# Reorder indices and columns\n",
    "pivot = pivot.loc[\n",
    "    [\n",
    "        'No Answer',\n",
    "        'Prefer not to answer',\n",
    "        'Straight/Heterosexual',\n",
    "        'Gay',\n",
    "        'Lesbian',\n",
    "        'Queer',\n",
    "        'Bisexual',\n",
    "        'Other'\n",
    "    ],\n",
    "    COLUMN_ORDER\n",
    "]\n",
    "pivot.to_excel(DUMP, 'HmsPromoByOrientation')\n",
    "pivot"
   ]
  },
  {
   "cell_type": "code",
   "execution_count": null,
   "id": "1430a9dc",
   "metadata": {},
   "outputs": [],
   "source": [
    "del pivot"
   ]
  },
  {
   "cell_type": "markdown",
   "id": "f96a23b7",
   "metadata": {},
   "source": [
    "## Grouped by Need for Accommodations"
   ]
  },
  {
   "cell_type": "code",
   "execution_count": null,
   "id": "be477b39",
   "metadata": {},
   "outputs": [],
   "source": [
    "pivot = pd.crosstab(\n",
    "    df[COLUMNS[10]], df[COLUMNS[12]],\n",
    "    margins=True,\n",
    "    margins_name='Total'\n",
    ")\n",
    "# Reorder indices and columns\n",
    "pivot = pivot.loc[\n",
    "    ['No Answer', 'Yes', 'No'],\n",
    "    COLUMN_ORDER\n",
    "]\n",
    "pivot.to_excel(DUMP, 'HmsPromoByHandicap')\n",
    "pivot"
   ]
  },
  {
   "cell_type": "code",
   "execution_count": null,
   "id": "80e3c860",
   "metadata": {},
   "outputs": [],
   "source": [
    "del pivot"
   ]
  },
  {
   "cell_type": "markdown",
   "id": "02267642",
   "metadata": {},
   "source": [
    "## Grouped by Retirement Plans"
   ]
  },
  {
   "cell_type": "code",
   "execution_count": null,
   "id": "c062c317",
   "metadata": {},
   "outputs": [],
   "source": [
    "pivot = pd.crosstab(\n",
    "    df[COLUMNS[11]], df[COLUMNS[12]],\n",
    "    margins=True,\n",
    "    margins_name='Total'\n",
    ")\n",
    "# Reorder indices and columns\n",
    "pivot = pivot.loc[\n",
    "    ['No Answer', 'Yes', 'No'],\n",
    "    COLUMN_ORDER\n",
    "]\n",
    "pivot.to_excel(DUMP, 'HmsPromoByRetirement')\n",
    "pivot"
   ]
  },
  {
   "cell_type": "code",
   "execution_count": null,
   "id": "d70eb947",
   "metadata": {},
   "outputs": [],
   "source": [
    "del pivot"
   ]
  },
  {
   "cell_type": "markdown",
   "id": "1822fbbe",
   "metadata": {},
   "source": [
    "## Grouped by Degree Category"
   ]
  },
  {
   "cell_type": "code",
   "execution_count": null,
   "id": "55057cb4",
   "metadata": {
    "scrolled": false
   },
   "outputs": [],
   "source": [
    "# Assemble crosstabbed rows\n",
    "rows = []\n",
    "for col in COLS_DEGR:\n",
    "    pivot = pd.crosstab(\n",
    "        df.loc[df[col] == 1, col],\n",
    "        df[COLUMNS[12]],\n",
    "        margins=True,\n",
    "        margins_name='Total'\n",
    "    )\n",
    "    \n",
    "    # Check for and add unrepresented HMS Promo Question answers to current category\n",
    "    row = pivot.loc[1].rename(col)\n",
    "    for answer in COLUMN_ORDER:\n",
    "        if answer not in row.index:\n",
    "            row.at[answer] = 0\n",
    "    \n",
    "    # Append crosstabbed series to list\n",
    "    rows.append(row)"
   ]
  },
  {
   "cell_type": "markdown",
   "id": "a9e49b6e",
   "metadata": {},
   "source": [
    "<b>Interest in HMS Promotion by Degree Category</b>"
   ]
  },
  {
   "cell_type": "code",
   "execution_count": null,
   "id": "ca231ad5",
   "metadata": {},
   "outputs": [],
   "source": [
    "tmpDf = pd.DataFrame(rows, columns=COLUMN_ORDER)\n",
    "tmpDf.to_excel(DUMP, 'HmsPromoByDegree')\n",
    "tmpDf"
   ]
  },
  {
   "cell_type": "code",
   "execution_count": null,
   "id": "bf724e75",
   "metadata": {},
   "outputs": [],
   "source": [
    "del rows, col, pivot, row, answer, COLUMN_ORDER, tmpDf"
   ]
  },
  {
   "cell_type": "markdown",
   "id": "e29754eb",
   "metadata": {},
   "source": [
    "<hr style=\"border:3px solid gray\">\n",
    "\n",
    "# HMS Rank\n",
    "\n",
    "## Setup"
   ]
  },
  {
   "cell_type": "code",
   "execution_count": null,
   "id": "29c2e5cf",
   "metadata": {},
   "outputs": [],
   "source": [
    "# Set 'N/A...' strings to nulls\n",
    "for i in range(34, 27, -2):\n",
    "    df.loc[df[COLUMNS[i]] == 'N/A - previous is my current appointment', COLUMNS[i]] = pd.NA\n",
    "\n",
    "# Determine current HMS appointment\n",
    "# Appointments are listed from left to right in chronological order\n",
    "# Work in reverse column order to determine current appointment\n",
    "def getCurrent(row):\n",
    "    for i in range(34, 25, -2):\n",
    "        if pd.notna(row.loc[COLUMNS[i]]):\n",
    "            return row.loc[COLUMNS[i]]\n",
    "    return pd.NA\n",
    "\n",
    "TARGET = 'hmsCurrent'\n",
    "\n",
    "df[TARGET] = df.apply(getCurrent, axis=1)\n",
    "COLUMNS += [TARGET]\n",
    "\n",
    "responses = df[TARGET].notna().sum()\n",
    "print(f\"{responses} faculty answered this question for a {calcPercent(responses)}% response rate.\")\n",
    "\n",
    "# Fill in NaN values in target column\n",
    "df[TARGET].fillna(value='No Answer', inplace=True)\n",
    "\n",
    "# Define order that target column's values will be listed in in the pivot table\n",
    "COLUMN_ORDER = [\n",
    "    'No Answer',\n",
    "    'Instructor',\n",
    "    'Assistant Professor',\n",
    "    'Associate Professor',\n",
    "    'Full Professor',\n",
    "    'Research Associate',\n",
    "    'member of the faculty',\n",
    "    'Total'\n",
    "]\n",
    "\n",
    "del i, getCurrent, responses"
   ]
  },
  {
   "cell_type": "markdown",
   "id": "544cd35b",
   "metadata": {},
   "source": [
    "## Overall"
   ]
  },
  {
   "cell_type": "code",
   "execution_count": null,
   "id": "eade1635",
   "metadata": {},
   "outputs": [],
   "source": [
    "# Chart counts and percentages\n",
    "col = df[TARGET].value_counts()\n",
    "\n",
    "tmpDf = col.rename(\"Count\").to_frame()\n",
    "tmpDf['Percent'] = calcPercent(tmpDf['Count'])\n",
    "tmpDf.to_excel(DUMP, 'HmsRank')\n",
    "tmpDf"
   ]
  },
  {
   "cell_type": "code",
   "execution_count": null,
   "id": "af245ea1",
   "metadata": {},
   "outputs": [],
   "source": [
    "fig = plt.figure(figsize=(15,10))\n",
    "axes = fig.add_subplot()\n",
    "axes.set_title('Current HMS Rank', fontsize=18)\n",
    "plot = axes.bar(\n",
    "    x=tmpDf.index,\n",
    "    height=tmpDf['Count'],\n",
    "    color=BAR_COLORS\n",
    ")"
   ]
  },
  {
   "cell_type": "code",
   "execution_count": null,
   "id": "9d4189e9",
   "metadata": {},
   "outputs": [],
   "source": [
    "del tmpDf, fig, axes, plot"
   ]
  },
  {
   "cell_type": "markdown",
   "id": "b5c59155",
   "metadata": {},
   "source": [
    "## Grouped by Sex at Birth"
   ]
  },
  {
   "cell_type": "code",
   "execution_count": null,
   "id": "2f042f49",
   "metadata": {},
   "outputs": [],
   "source": [
    "pivot = pd.crosstab(\n",
    "    df[COLUMNS[0]], df[TARGET],\n",
    "    margins=True,\n",
    "    margins_name='Total'\n",
    ")\n",
    "# Reorder indices and columns\n",
    "pivot = pivot.loc[\n",
    "    ['No Answer', 'Female', 'Male', 'Total'],\n",
    "    COLUMN_ORDER\n",
    "]\n",
    "pivot.to_excel(DUMP, 'HmsRankBySex')\n",
    "pivot"
   ]
  },
  {
   "cell_type": "code",
   "execution_count": null,
   "id": "f202691e",
   "metadata": {},
   "outputs": [],
   "source": [
    "del pivot"
   ]
  },
  {
   "cell_type": "markdown",
   "id": "7bdc0b2a",
   "metadata": {},
   "source": [
    "## Grouped by Gender"
   ]
  },
  {
   "cell_type": "code",
   "execution_count": null,
   "id": "a1720001",
   "metadata": {},
   "outputs": [],
   "source": [
    "pivot = pd.crosstab(\n",
    "    df[COLUMNS[1]], df[TARGET],\n",
    "    margins=True,\n",
    "    margins_name='Total'\n",
    ")\n",
    "# Reorder indices and columns\n",
    "pivot = pivot.loc[\n",
    "    ['No Answer', 'Woman', 'Man', 'Prefer not to answer', 'Nonbinary', 'Total'],\n",
    "    COLUMN_ORDER\n",
    "]\n",
    "pivot.to_excel(DUMP, 'HmsRankByGender')\n",
    "pivot"
   ]
  },
  {
   "cell_type": "code",
   "execution_count": null,
   "id": "6847f2dc",
   "metadata": {},
   "outputs": [],
   "source": [
    "del pivot"
   ]
  },
  {
   "cell_type": "markdown",
   "id": "acaf61d5",
   "metadata": {},
   "source": [
    "## Grouped by URIM Status"
   ]
  },
  {
   "cell_type": "code",
   "execution_count": null,
   "id": "0f496c55",
   "metadata": {
    "scrolled": false
   },
   "outputs": [],
   "source": [
    "# Assemble crosstabbed rows\n",
    "rows = []\n",
    "for col in COLS_URIM:\n",
    "    pivot = pd.crosstab(\n",
    "        df.loc[df[col] == 1, col],\n",
    "        df[TARGET],\n",
    "        margins=True,\n",
    "        margins_name='Total'\n",
    "    )\n",
    "    \n",
    "    # Check for and add unrepresented answers to current category\n",
    "    row = pivot.loc[1].rename(col)\n",
    "    for answer in COLUMN_ORDER:\n",
    "        if answer not in row.index:\n",
    "            row.at[answer] = 0\n",
    "    \n",
    "    # Append crosstabbed series to list\n",
    "    rows.append(row)"
   ]
  },
  {
   "cell_type": "markdown",
   "id": "ef7284c1",
   "metadata": {},
   "source": [
    "<b>HMS Rank by URIM Identity</b>"
   ]
  },
  {
   "cell_type": "code",
   "execution_count": null,
   "id": "c4af6967",
   "metadata": {},
   "outputs": [],
   "source": [
    "tmpDf = pd.DataFrame(rows, columns=COLUMN_ORDER)\n",
    "tmpDf.to_excel(DUMP, 'HmsRankByURiM')\n",
    "tmpDf"
   ]
  },
  {
   "cell_type": "code",
   "execution_count": null,
   "id": "00a3725b",
   "metadata": {},
   "outputs": [],
   "source": [
    "del rows, col, pivot, row, answer, tmpDf"
   ]
  },
  {
   "cell_type": "markdown",
   "id": "2b1feb09",
   "metadata": {},
   "source": [
    "## Grouped by Orientation"
   ]
  },
  {
   "cell_type": "code",
   "execution_count": null,
   "id": "68e59cf5",
   "metadata": {},
   "outputs": [],
   "source": [
    "pivot = pd.crosstab(\n",
    "    df[COLUMNS[9]], df[TARGET],\n",
    "    margins=True,\n",
    "    margins_name='Total'\n",
    ")\n",
    "# Reorder indices and columns\n",
    "pivot = pivot.loc[\n",
    "    [\n",
    "        'No Answer',\n",
    "        'Prefer not to answer',\n",
    "        'Straight/Heterosexual',\n",
    "        'Gay',\n",
    "        'Lesbian',\n",
    "        'Queer',\n",
    "        'Bisexual',\n",
    "        'Other'\n",
    "    ],\n",
    "    COLUMN_ORDER\n",
    "]\n",
    "pivot.to_excel(DUMP, 'HmsRankByOrientation')\n",
    "pivot"
   ]
  },
  {
   "cell_type": "code",
   "execution_count": null,
   "id": "bd87f913",
   "metadata": {},
   "outputs": [],
   "source": [
    "del pivot"
   ]
  },
  {
   "cell_type": "markdown",
   "id": "095876ab",
   "metadata": {},
   "source": [
    "## Grouped by Need for Accommodations"
   ]
  },
  {
   "cell_type": "code",
   "execution_count": null,
   "id": "9224dd01",
   "metadata": {},
   "outputs": [],
   "source": [
    "pivot = pd.crosstab(\n",
    "    df[COLUMNS[10]], df[TARGET],\n",
    "    margins=True,\n",
    "    margins_name='Total'\n",
    ")\n",
    "# Reorder indices and columns\n",
    "pivot = pivot.loc[\n",
    "    ['No Answer', 'Yes', 'No'],\n",
    "    COLUMN_ORDER\n",
    "]\n",
    "pivot.to_excel(DUMP, 'HmsRankByHandicap')\n",
    "pivot"
   ]
  },
  {
   "cell_type": "code",
   "execution_count": null,
   "id": "f0c6c16e",
   "metadata": {},
   "outputs": [],
   "source": [
    "del pivot"
   ]
  },
  {
   "cell_type": "markdown",
   "id": "dabe43c8",
   "metadata": {},
   "source": [
    "## Grouped by Retirement Plans"
   ]
  },
  {
   "cell_type": "code",
   "execution_count": null,
   "id": "217f1feb",
   "metadata": {},
   "outputs": [],
   "source": [
    "pivot = pd.crosstab(\n",
    "    df[COLUMNS[11]], df[TARGET],\n",
    "    margins=True,\n",
    "    margins_name='Total'\n",
    ")\n",
    "# Reorder indices and columns\n",
    "pivot = pivot.loc[\n",
    "    ['No Answer', 'Yes', 'No'],\n",
    "    COLUMN_ORDER\n",
    "]\n",
    "pivot.to_excel(DUMP, 'HmsRankByRetirement')\n",
    "pivot"
   ]
  },
  {
   "cell_type": "code",
   "execution_count": null,
   "id": "b59c9085",
   "metadata": {},
   "outputs": [],
   "source": [
    "del pivot"
   ]
  },
  {
   "cell_type": "markdown",
   "id": "7319e11b",
   "metadata": {},
   "source": [
    "## Grouped by Degree Category"
   ]
  },
  {
   "cell_type": "code",
   "execution_count": null,
   "id": "9ae1e9b4",
   "metadata": {
    "scrolled": false
   },
   "outputs": [],
   "source": [
    "# Assemble crosstabbed rows\n",
    "rows = []\n",
    "for col in COLS_DEGR:\n",
    "    pivot = pd.crosstab(\n",
    "        df.loc[df[col] == 1, col],\n",
    "        df[TARGET],\n",
    "        margins=True,\n",
    "        margins_name='Total'\n",
    "    )\n",
    "    \n",
    "    # Check for and add unrepresented HMS Promo Question answers to current category\n",
    "    row = pivot.loc[1].rename(col)\n",
    "    for answer in COLUMN_ORDER:\n",
    "        if answer not in row.index:\n",
    "            row.at[answer] = 0\n",
    "    \n",
    "    # Append crosstabbed series to list\n",
    "    rows.append(row)"
   ]
  },
  {
   "cell_type": "markdown",
   "id": "6b461891",
   "metadata": {},
   "source": [
    "<b>HMS Rank by Degree Category</b>"
   ]
  },
  {
   "cell_type": "code",
   "execution_count": null,
   "id": "979cd0ea",
   "metadata": {},
   "outputs": [],
   "source": [
    "tmpDf = pd.DataFrame(rows, columns=COLUMN_ORDER)\n",
    "tmpDf.to_excel(DUMP, 'HmsRankByDegree')\n",
    "tmpDf"
   ]
  },
  {
   "cell_type": "code",
   "execution_count": null,
   "id": "da64884e",
   "metadata": {},
   "outputs": [],
   "source": [
    "del rows, col, pivot, row, answer, tmpDf"
   ]
  },
  {
   "cell_type": "code",
   "execution_count": null,
   "id": "4d279cfb",
   "metadata": {},
   "outputs": [],
   "source": [
    "del COLUMN_ORDER, TARGET"
   ]
  },
  {
   "cell_type": "markdown",
   "id": "d30b4842",
   "metadata": {},
   "source": [
    "<hr style=\"border:3px solid gray\">\n",
    "\n",
    "# MGH Rank\n",
    "\n",
    "## Setup"
   ]
  },
  {
   "cell_type": "code",
   "execution_count": null,
   "id": "e18a0008",
   "metadata": {},
   "outputs": [],
   "source": [
    "# Set 'N/A...' strings to nulls\n",
    "for i in range(44, 35, -2):\n",
    "    df.loc[df[COLUMNS[i]] == 'N/A - previous is my current appointment', COLUMNS[i]] = pd.NA\n",
    "\n",
    "# Determine current MGH appointment\n",
    "# Appointments are listed from left to right in chronological order\n",
    "# Work in reverse column order to determine current appointment\n",
    "# Unlike HMS appointments, some respondents answered N/A in the left-most MGH title\n",
    "def getCurrent(row):\n",
    "    for i in range(44, 35, -2):\n",
    "        if pd.notna(row.loc[COLUMNS[i]]):\n",
    "            return row.loc[COLUMNS[i]]\n",
    "    return pd.NA\n",
    "\n",
    "TARGET = 'mghCurrent'\n",
    "COLUMNS += [TARGET]\n",
    "\n",
    "df[TARGET] = df.apply(getCurrent, axis=1)\n",
    "\n",
    "responses = df[TARGET].notna().sum()\n",
    "print(f\"{responses} staff answered this question for a {calcPercent(responses)}% response rate.\")\n",
    "\n",
    "# Fill in NaN values in target column\n",
    "df[TARGET].fillna(value='No Answer', inplace=True)\n",
    "\n",
    "# Define order that target column's values will be listed in in the pivot table\n",
    "COLUMN_ORDER = [\n",
    "    'No Answer',\n",
    "    'Research Staff',\n",
    "    'Assistant in Medicine',\n",
    "    'Assistant Physician',\n",
    "    'Associate Physician',\n",
    "    'Physician',\n",
    "    'Clinical Affiliate',\n",
    "    'Clinical Associate',\n",
    "    'Clinical Assistant',\n",
    "    'Other',\n",
    "    'Total'\n",
    "]\n",
    "\n",
    "del i, getCurrent, responses"
   ]
  },
  {
   "cell_type": "markdown",
   "id": "347bcb15",
   "metadata": {},
   "source": [
    "## Overall"
   ]
  },
  {
   "cell_type": "code",
   "execution_count": null,
   "id": "c1d6b655",
   "metadata": {},
   "outputs": [],
   "source": [
    "# Chart counts and percentages\n",
    "col = df[TARGET].value_counts()\n",
    "\n",
    "tmpDf = col.rename(\"Count\").to_frame()\n",
    "tmpDf['Percent'] = calcPercent(tmpDf['Count'])\n",
    "tmpDf.to_excel(DUMP, 'MghRank')\n",
    "tmpDf"
   ]
  },
  {
   "cell_type": "code",
   "execution_count": null,
   "id": "e55f3a15",
   "metadata": {},
   "outputs": [],
   "source": [
    "fig = plt.figure(figsize=(15,10))\n",
    "axes = fig.add_subplot()\n",
    "axes.set_title('Current MGH Rank', fontsize=18)\n",
    "plot = axes.bar(\n",
    "    x=tmpDf.index,\n",
    "    height=tmpDf['Count'],\n",
    "    color=BAR_COLORS\n",
    ")"
   ]
  },
  {
   "cell_type": "code",
   "execution_count": null,
   "id": "eb2bc102",
   "metadata": {},
   "outputs": [],
   "source": [
    "del tmpDf, fig, axes, plot"
   ]
  },
  {
   "cell_type": "markdown",
   "id": "d76112b5",
   "metadata": {},
   "source": [
    "## Grouped by Sex at Birth"
   ]
  },
  {
   "cell_type": "code",
   "execution_count": null,
   "id": "bee355ab",
   "metadata": {},
   "outputs": [],
   "source": [
    "pivot = pd.crosstab(\n",
    "    df[COLUMNS[0]], df[TARGET],\n",
    "    margins=True,\n",
    "    margins_name='Total'\n",
    ")\n",
    "# Reorder indices and columns\n",
    "pivot = pivot.loc[\n",
    "    ['No Answer', 'Female', 'Male', 'Total'],\n",
    "    COLUMN_ORDER\n",
    "]\n",
    "pivot.to_excel(DUMP, 'MghRankBySex')\n",
    "pivot"
   ]
  },
  {
   "cell_type": "code",
   "execution_count": null,
   "id": "24faada6",
   "metadata": {},
   "outputs": [],
   "source": [
    "del pivot"
   ]
  },
  {
   "cell_type": "markdown",
   "id": "08a90a13",
   "metadata": {},
   "source": [
    "## Grouped by Gender"
   ]
  },
  {
   "cell_type": "code",
   "execution_count": null,
   "id": "33a17480",
   "metadata": {},
   "outputs": [],
   "source": [
    "pivot = pd.crosstab(\n",
    "    df[COLUMNS[1]], df[TARGET],\n",
    "    margins=True,\n",
    "    margins_name='Total'\n",
    ")\n",
    "# Reorder indices and columns\n",
    "pivot = pivot.loc[\n",
    "    ['No Answer', 'Woman', 'Man', 'Prefer not to answer', 'Nonbinary', 'Total'],\n",
    "    COLUMN_ORDER\n",
    "]\n",
    "pivot.to_excel(DUMP, 'MghRankByGender')\n",
    "pivot"
   ]
  },
  {
   "cell_type": "code",
   "execution_count": null,
   "id": "8ee54b18",
   "metadata": {},
   "outputs": [],
   "source": [
    "del pivot"
   ]
  },
  {
   "cell_type": "markdown",
   "id": "1c06b7d8",
   "metadata": {},
   "source": [
    "## Grouped by URIM Status"
   ]
  },
  {
   "cell_type": "code",
   "execution_count": null,
   "id": "39eb9fef",
   "metadata": {
    "scrolled": false
   },
   "outputs": [],
   "source": [
    "# Assemble crosstabbed rows\n",
    "rows = []\n",
    "for col in COLS_URIM:\n",
    "    pivot = pd.crosstab(\n",
    "        df.loc[df[col] == 1, col],\n",
    "        df[TARGET],\n",
    "        margins=True,\n",
    "        margins_name='Total'\n",
    "    )\n",
    "    \n",
    "    # Check for and add unrepresented answers to current category\n",
    "    row = pivot.loc[1].rename(col)\n",
    "    for answer in COLUMN_ORDER:\n",
    "        if answer not in row.index:\n",
    "            row.at[answer] = 0\n",
    "    \n",
    "    # Append crosstabbed series to list\n",
    "    rows.append(row)"
   ]
  },
  {
   "cell_type": "markdown",
   "id": "95b0ef6d",
   "metadata": {},
   "source": [
    "<b>MGH Rank by URIM Identity</b>"
   ]
  },
  {
   "cell_type": "code",
   "execution_count": null,
   "id": "00c468ca",
   "metadata": {},
   "outputs": [],
   "source": [
    "tmpDf = pd.DataFrame(rows, columns=COLUMN_ORDER)\n",
    "tmpDf.to_excel(DUMP, 'MghRankByURiM')\n",
    "tmpDf"
   ]
  },
  {
   "cell_type": "code",
   "execution_count": null,
   "id": "f7c40430",
   "metadata": {},
   "outputs": [],
   "source": [
    "del rows, col, pivot, row, answer, tmpDf"
   ]
  },
  {
   "cell_type": "markdown",
   "id": "6ac5234e",
   "metadata": {},
   "source": [
    "## Grouped by Orientation"
   ]
  },
  {
   "cell_type": "code",
   "execution_count": null,
   "id": "67b9f159",
   "metadata": {},
   "outputs": [],
   "source": [
    "pivot = pd.crosstab(\n",
    "    df[COLUMNS[9]], df[TARGET],\n",
    "    margins=True,\n",
    "    margins_name='Total'\n",
    ")\n",
    "# Reorder indices and columns\n",
    "pivot = pivot.loc[\n",
    "    [\n",
    "        'No Answer',\n",
    "        'Prefer not to answer',\n",
    "        'Straight/Heterosexual',\n",
    "        'Gay',\n",
    "        'Lesbian',\n",
    "        'Queer',\n",
    "        'Bisexual',\n",
    "        'Other'\n",
    "    ],\n",
    "    COLUMN_ORDER\n",
    "]\n",
    "pivot.to_excel(DUMP, 'MghRankByOrientation')\n",
    "pivot"
   ]
  },
  {
   "cell_type": "code",
   "execution_count": null,
   "id": "d0710924",
   "metadata": {},
   "outputs": [],
   "source": [
    "del pivot"
   ]
  },
  {
   "cell_type": "markdown",
   "id": "dc89fc5e",
   "metadata": {},
   "source": [
    "## Grouped by Need for Accommodations"
   ]
  },
  {
   "cell_type": "code",
   "execution_count": null,
   "id": "038438da",
   "metadata": {},
   "outputs": [],
   "source": [
    "pivot = pd.crosstab(\n",
    "    df[COLUMNS[10]], df[TARGET],\n",
    "    margins=True,\n",
    "    margins_name='Total'\n",
    ")\n",
    "# Reorder indices and columns\n",
    "pivot = pivot.loc[\n",
    "    ['No Answer', 'Yes', 'No'],\n",
    "    COLUMN_ORDER\n",
    "]\n",
    "pivot.to_excel(DUMP, 'MghRankByHandicap')\n",
    "pivot"
   ]
  },
  {
   "cell_type": "code",
   "execution_count": null,
   "id": "81f677be",
   "metadata": {},
   "outputs": [],
   "source": [
    "del pivot"
   ]
  },
  {
   "cell_type": "markdown",
   "id": "5bc0656f",
   "metadata": {},
   "source": [
    "## Grouped by Retirement Plans"
   ]
  },
  {
   "cell_type": "code",
   "execution_count": null,
   "id": "f2208bb4",
   "metadata": {},
   "outputs": [],
   "source": [
    "pivot = pd.crosstab(\n",
    "    df[COLUMNS[11]], df[TARGET],\n",
    "    margins=True,\n",
    "    margins_name='Total'\n",
    ")\n",
    "# Reorder indices and columns\n",
    "pivot = pivot.loc[\n",
    "    ['No Answer', 'Yes', 'No'],\n",
    "    COLUMN_ORDER\n",
    "]\n",
    "pivot.to_excel(DUMP, 'MghRankByRetirement')\n",
    "pivot"
   ]
  },
  {
   "cell_type": "code",
   "execution_count": null,
   "id": "756dbe8b",
   "metadata": {},
   "outputs": [],
   "source": [
    "del pivot"
   ]
  },
  {
   "cell_type": "markdown",
   "id": "0bd727c2",
   "metadata": {},
   "source": [
    "## Grouped by Degree Category"
   ]
  },
  {
   "cell_type": "code",
   "execution_count": null,
   "id": "4b310142",
   "metadata": {
    "scrolled": false
   },
   "outputs": [],
   "source": [
    "# Assemble crosstabbed rows\n",
    "rows = []\n",
    "for col in COLS_DEGR:\n",
    "    pivot = pd.crosstab(\n",
    "        df.loc[df[col] == 1, col],\n",
    "        df[TARGET],\n",
    "        margins=True,\n",
    "        margins_name='Total'\n",
    "    )\n",
    "    \n",
    "    # Check for and add unrepresented HMS Promo Question answers to current category\n",
    "    row = pivot.loc[1].rename(col)\n",
    "    for answer in COLUMN_ORDER:\n",
    "        if answer not in row.index:\n",
    "            row.at[answer] = 0\n",
    "    \n",
    "    # Append crosstabbed series to list\n",
    "    rows.append(row)"
   ]
  },
  {
   "cell_type": "markdown",
   "id": "3917e7ff",
   "metadata": {},
   "source": [
    "<b>MGH Rank by Degree Category</b>"
   ]
  },
  {
   "cell_type": "code",
   "execution_count": null,
   "id": "e7d663c4",
   "metadata": {},
   "outputs": [],
   "source": [
    "tmpDf = pd.DataFrame(rows, columns=COLUMN_ORDER)\n",
    "tmpDf.to_excel(DUMP, 'MghRankByDegree')\n",
    "tmpDf"
   ]
  },
  {
   "cell_type": "code",
   "execution_count": null,
   "id": "ac52cc03",
   "metadata": {},
   "outputs": [],
   "source": [
    "del rows, col, pivot, row, answer, tmpDf"
   ]
  },
  {
   "cell_type": "code",
   "execution_count": null,
   "id": "2c05cb3a",
   "metadata": {},
   "outputs": [],
   "source": [
    "del COLUMN_ORDER, TARGET"
   ]
  },
  {
   "cell_type": "markdown",
   "id": "14c5c02f",
   "metadata": {},
   "source": [
    "<hr style=\"border:3px solid gray\">\n",
    "\n",
    "# Date Conversions"
   ]
  },
  {
   "cell_type": "code",
   "execution_count": null,
   "id": "67a9c48c",
   "metadata": {
    "scrolled": false
   },
   "outputs": [],
   "source": [
    "def getType(x):\n",
    "    return pd.NA if pd.isna(x) else type(x)\n",
    "\n",
    "for i in range(27,46,2):\n",
    "    print(f\"{i} {COLUMNS[i]}\\n{df[COLUMNS[i]].apply(getType).unique()}\\n\")\n",
    "\n",
    "del getType, i"
   ]
  },
  {
   "cell_type": "markdown",
   "id": "cf8fb17b",
   "metadata": {},
   "source": [
    "Respondents were allowed to enter whatever string they wished into these \"date\" fields.  Some responses even include typos such as missing or extra digits.\n",
    "\n",
    "Ranks were also allowed to be chosen from a list without restricting for a coherent sense of progression.  Ranks could be repeated multiple times or listed in any order.\n",
    "\n",
    "* Only those responses that can be read as a coherent, single year value will be evaluated.\n",
    "* Any non-numerical characters will invalidate a response.\n",
    "* Year values that do not fall within a sensible range will be invalidated.\n",
    "* All dates will be assumed to be start dates.\n",
    "* Ranks repeated consecutively will be considered the same appointment with no breaks in between.  The earliest year will be used for calculations.\n",
    "* Any difference in titles will be considered a \"promotion\" whether or not there is an actual progression in the ranks.\n",
    "\n",
    "## Setup"
   ]
  },
  {
   "cell_type": "code",
   "execution_count": null,
   "id": "3ea2e0b6",
   "metadata": {},
   "outputs": [],
   "source": [
    "# Create Promotion Columns\n",
    "df['hmsFirstLength'] = pd.NA\n",
    "COLUMNS += ['hmsFirstLength']\n",
    "for i in range(0, 5):\n",
    "    s = str(i)\n",
    "    df['hmsPromoType' + s] = pd.NA\n",
    "    COLUMNS += ['hmsPromoType' + s]\n",
    "    df['hmsPromoLength' + s] = pd.NA\n",
    "    COLUMNS += ['hmsPromoLength' + s]\n",
    "df['mghFirstLength'] = pd.NA\n",
    "COLUMNS += ['mghFirstLength']\n",
    "for i in range(0, 5):\n",
    "    s = str(i)\n",
    "    df['mghPromoType' + s] = pd.NA\n",
    "    COLUMNS += ['mghPromoType' + s]\n",
    "    df['mghPromoLength' + s] = pd.NA\n",
    "    COLUMNS += ['mghPromoLength' + s]\n",
    "\n",
    "# Helper that defines valid year range\n",
    "def inRange(year):\n",
    "    return (year > 1949 and year <= datetime.now().year)\n",
    "\n",
    "# Helper that converts various data types to integer years\n",
    "def getYear(x):\n",
    "    yr = pd.NA\n",
    "    # Match-Case Syntax wasn't introduced until Python 3.10\n",
    "    # This document was written with Python 3.9\n",
    "    if isinstance(x, int):\n",
    "        if inRange(x):\n",
    "            yr = x\n",
    "    elif isinstance(x, datetime):\n",
    "        if inRange(x.year):\n",
    "            yr = x.year\n",
    "    elif isinstance(x, float) and pd.notna(x):\n",
    "        if inRange(int(x)):\n",
    "            yr = int(x)\n",
    "    return yr\n",
    "\n",
    "# grp = 'hms' || 'mgh'\n",
    "def calcPromos(row, grp):\n",
    "    ranks = range(26, 35, 2) if (grp == 'hms') else range(36, 45, 2)\n",
    "    prvTitle = None\n",
    "    prvStart = None\n",
    "    promoNum = 0\n",
    "    for i in range(5):\n",
    "        nxtTitle = row[COLUMNS[ranks[i]]]\n",
    "        nxtStart = getYear(row[COLUMNS[ranks[i]+1]])\n",
    "        \n",
    "        # Stop if there is not enough data to calculate length between ranks\n",
    "        if pd.isna(nxtTitle) or pd.isna(nxtStart):\n",
    "            break\n",
    "        \n",
    "        if prvTitle == None:\n",
    "            prvTitle = nxtTitle\n",
    "            prvStart = nxtStart\n",
    "            continue\n",
    "        elif prvTitle != nxtTitle:\n",
    "            # Calculate and record time between promotion\n",
    "            length = nxtStart - prvStart\n",
    "            if length >= 0:\n",
    "                row[grp + 'PromoType' + str(promoNum)] = prvTitle + ' to ' + nxtTitle\n",
    "                row[grp + 'PromoLength' + str(promoNum)] = length\n",
    "            else:\n",
    "                row[grp + 'PromoType' + str(promoNum)] = nxtTitle + ' to ' + prvTitle\n",
    "                row[grp + 'PromoLength' + str(promoNum)] = length * -1\n",
    "            prvTitle = nxtTitle\n",
    "            prvStart = nxtStart\n",
    "            promoNum += 1\n",
    "        elif prvTitle == nxtTitle:\n",
    "            # Account for appointments listed in descending order\n",
    "            if nxtStart < prvStart:\n",
    "                prvStart = nxtStart\n",
    "    \n",
    "    # Calculate time spent at initial rank for those who weren't promoted\n",
    "    # or the final listed rank of those who were.\n",
    "    # Assumes there has been no break in service\n",
    "    if pd.notna(prvTitle) and pd.notna(prvStart):\n",
    "        row[grp + 'PromoType' + str(promoNum)] = prvTitle + '_'\n",
    "        row[grp + 'PromoLength' + str(promoNum)] = datetime.now().year - prvStart\n",
    "    \n",
    "    return row\n",
    "\n",
    "# Apply algorithm\n",
    "df = df.apply(calcPromos, axis=1, args=('hms',))\n",
    "df = df.apply(calcPromos, axis=1, args=('mgh',))\n",
    "\n",
    "del i, inRange, getYear, calcPromos"
   ]
  },
  {
   "cell_type": "markdown",
   "id": "5f55fda1",
   "metadata": {},
   "source": [
    "<hr style=\"border:3px solid gray\">\n",
    "\n",
    "# Close and Save Data Dump Excel File"
   ]
  },
  {
   "cell_type": "code",
   "execution_count": null,
   "id": "e44a70ce",
   "metadata": {},
   "outputs": [],
   "source": [
    "# Reorder columns\n",
    "COLUMNS = COLUMNS[:9] + [COLUMNS[46]] + COLUMNS[9:13] + COLUMNS[47:51] + COLUMNS[13:26] + \\\n",
    "[COLUMNS[51]] + COLUMNS[53:61] + COLUMNS[26:36] + [COLUMNS[52]] + COLUMNS[61:] + \\\n",
    "COLUMNS[36:46]\n",
    "\n",
    "df.to_excel(DUMP, sheet_name='Source', columns=COLUMNS)\n",
    "DUMP.close()"
   ]
  }
 ],
 "metadata": {
  "kernelspec": {
   "display_name": "Python 3 (ipykernel)",
   "language": "python",
   "name": "python3"
  },
  "language_info": {
   "codemirror_mode": {
    "name": "ipython",
    "version": 3
   },
   "file_extension": ".py",
   "mimetype": "text/x-python",
   "name": "python",
   "nbconvert_exporter": "python",
   "pygments_lexer": "ipython3",
   "version": "3.9.15"
  }
 },
 "nbformat": 4,
 "nbformat_minor": 5
}
