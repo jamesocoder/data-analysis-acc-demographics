{
 "cells": [
  {
   "cell_type": "code",
   "execution_count": null,
   "id": "715ecd61",
   "metadata": {},
   "outputs": [],
   "source": [
    "# Set up environment and define shape of data\n",
    "\n",
    "import pandas as pd\n",
    "import matplotlib.pyplot as plt\n",
    "\n",
    "pd.set_option('display.max_colwidth', None)\n",
    "\n",
    "# List of columns to analyze\n",
    "# Note that pandas will make any duplicate column names unique by appending a sequence number\n",
    "# to subsequent occurences of them when importing said data\n",
    "# (e.g. HMS Rank, HMS Rank.1, HMS Rank.2, etc.)\n",
    "SCHEMA = {\n",
    "    '1. Sex assigned at birth': 'string',\n",
    "    '2. Gender Identity': 'string',\n",
    "    'Black or African American': 'string',\n",
    "    'Hispanic or Latino': 'string',\n",
    "    'American Indian or Alaskan Native': 'string',\n",
    "    'Native Hawaiian and other Pacific Islander': 'string',\n",
    "    'Cambodian or Laotian': 'string',\n",
    "    'None': 'string',\n",
    "    'Prefer not to answer': 'string',\n",
    "    '4. Identification as ': 'string',\n",
    "    '5. Requirement for workplace accommodations: (Reasonable accommodations in the workplace support people with disability and/or chronic health conditions in performing their jobs.) If you would like more information about obtaining accommodations, contact MGH OHS.': 'string',\n",
    "    '1. Are you considering or engaging in the process of retirement? ': 'string',\n",
    "    '2. Are you interested in learning more about HMS promotions and discussing advancement on the HMS ladder? ': 'string',\n",
    "    'MD': 'string',\n",
    "    'MBChB': 'string',\n",
    "    'DO': 'string',\n",
    "    'PhD': 'string',\n",
    "    'DPhil': 'string',\n",
    "    'Sci D': 'string',\n",
    "    'RDN': 'string',\n",
    "    'MS': 'string',\n",
    "    'MSN': 'string',\n",
    "    'MPH': 'string',\n",
    "    'MPA': 'string',\n",
    "    'MBA': 'string',\n",
    "    'Other': 'string',\n",
    "    'i. HMS Rank': 'string',\n",
    "    'ii. Date (yyyy)': 'string',\n",
    "    'i. HMS Rank.1': 'string',\n",
    "    'ii. Date (yyyy).1': 'string',\n",
    "    'i. HMS Rank.2': 'string',\n",
    "    'ii. Date (yyyy).2': 'string',\n",
    "    'i. HMS Rank.3': 'string',\n",
    "    'ii. Date (yyyy).3': 'string',\n",
    "    'i. HMS Rank.4': 'string',\n",
    "    'ii. Date (yyyy).4': 'string',\n",
    "    'i. Job Title': 'string',\n",
    "    'ii. Date (yyyy).5': 'string',\n",
    "    'i. Job Title.1': 'string',\n",
    "    'ii. Date (yyyy).6': 'string',\n",
    "    'i. Job Title.2': 'string',\n",
    "    'ii. Date (yyyy).7': 'string',\n",
    "    'i. Job Title.3': 'string',\n",
    "    'ii. Date (yyyy).8': 'string',\n",
    "    'i. Job Title.4': 'string',\n",
    "    'ii. Date (yyyy).9': 'string',\n",
    "}\n",
    "\n",
    "# Column label capitalization is inconsistent between data sets\n",
    "# Convert all names to lowercase\n",
    "SCHEMA = {key.lower(): val for key, val in SCHEMA.items()}\n",
    "\n",
    "# Store a list of column labels for easier reference\n",
    "COLUMNS = list(SCHEMA.keys())\n",
    "\n",
    "# Create scaffolding for DataFrame that will house concatenated datasets\n",
    "df = pd.DataFrame(columns=COLUMNS).astype(SCHEMA)"
   ]
  },
  {
   "cell_type": "code",
   "execution_count": null,
   "id": "773ad085",
   "metadata": {},
   "outputs": [],
   "source": [
    "# Load all datasets into memory\n",
    "\n",
    "from pathlib import Path\n",
    "\n",
    "for filepath in Path(\"./data\").iterdir():\n",
    "    if filepath.is_file():\n",
    "        print(f\"Importing {filepath}\")\n",
    "        rawDf = pd.read_excel(\n",
    "            filepath,\n",
    "            header=0,\n",
    "            engine=\"openpyxl\"\n",
    "        )\n",
    "        # Convert raw column names to lowercase\n",
    "        rawDf.rename(columns=str.lower, inplace=True)\n",
    "        # Select only the COLUMNS we are interested in\n",
    "        rawDf = rawDf.filter(items=COLUMNS)\n",
    "        # Clear out blank rows\n",
    "        trimmedDf = rawDf.dropna(how='all')\n",
    "        print(f\"{rawDf.shape[0] - trimmedDf.shape[0]} blank rows dropped.  Remaining rows: {trimmedDf.shape[0]}.\\n\")\n",
    "        # Append rows to main DataFrame\n",
    "        initial = df.shape[0]\n",
    "        df = pd.concat([df, trimmedDf], ignore_index=True)\n",
    "        del rawDf, trimmedDf, initial\n",
    "\n",
    "del Path, filepath"
   ]
  },
  {
   "cell_type": "markdown",
   "id": "4bf0ce6a",
   "metadata": {},
   "source": [
    "# Dataset Size"
   ]
  },
  {
   "cell_type": "code",
   "execution_count": null,
   "id": "bd817045",
   "metadata": {},
   "outputs": [],
   "source": [
    "# Number of respondents that supplied at least some demographic or rank data\n",
    "df.shape[0]"
   ]
  },
  {
   "cell_type": "markdown",
   "id": "b2840ba3",
   "metadata": {},
   "source": [
    "# Sex at Birth"
   ]
  },
  {
   "cell_type": "code",
   "execution_count": null,
   "id": "cf38afb3",
   "metadata": {},
   "outputs": [],
   "source": [
    "# Number of respondents that provided this datapoint\n",
    "col = df[COLUMNS[0]]\n",
    "col.dropna().size"
   ]
  },
  {
   "cell_type": "code",
   "execution_count": null,
   "id": "d3cbf70e",
   "metadata": {},
   "outputs": [],
   "source": [
    "# Chart counts and percentages\n",
    "col.fillna(value='No Answer', inplace=True)\n",
    "col = col.value_counts()\n",
    "\n",
    "tmpDf = col.rename(\"Count\").to_frame()\n",
    "tmpDf['Percent'] = round(tmpDf['Count'] / tmpDf['Count'].sum() * 100, 2)\n",
    "tmpDf"
   ]
  },
  {
   "cell_type": "code",
   "execution_count": null,
   "id": "b90c312e",
   "metadata": {},
   "outputs": [],
   "source": [
    "plt.bar(\n",
    "    x=col.keys(),\n",
    "    height=col.values,\n",
    "    color=['red','blue','gray']\n",
    ")\n",
    "plt.title(COLUMNS[0], fontsize=18)"
   ]
  },
  {
   "cell_type": "code",
   "execution_count": null,
   "id": "4bf6f1fb",
   "metadata": {},
   "outputs": [],
   "source": [
    "del col, tmpDf"
   ]
  },
  {
   "cell_type": "markdown",
   "id": "f88ee670",
   "metadata": {},
   "source": [
    "# Gender"
   ]
  },
  {
   "cell_type": "code",
   "execution_count": null,
   "id": "c9998e08",
   "metadata": {},
   "outputs": [],
   "source": [
    "# Number of respondents that provided this datapoint\n",
    "col = df[COLUMNS[1]]\n",
    "col.dropna().size"
   ]
  },
  {
   "cell_type": "code",
   "execution_count": null,
   "id": "6f772540",
   "metadata": {},
   "outputs": [],
   "source": [
    "# Chart counts and percentages\n",
    "col.fillna(value='No Answer', inplace=True)\n",
    "col = col.value_counts()\n",
    "\n",
    "tmpDf = col.rename(\"Count\").to_frame()\n",
    "tmpDf['Percent'] = round(tmpDf['Count'] / tmpDf['Count'].sum() * 100, 2)\n",
    "tmpDf"
   ]
  },
  {
   "cell_type": "code",
   "execution_count": null,
   "id": "a20971b5",
   "metadata": {},
   "outputs": [],
   "source": [
    "fig = plt.figure(figsize=(15,10))\n",
    "axes = fig.add_subplot()\n",
    "axes.set_title(COLUMNS[1], fontsize=18)\n",
    "plot = axes.bar(\n",
    "    x=col.keys(),\n",
    "    height=col.values,\n",
    "    color=['red','blue','gray', 'pink', 'purple']\n",
    ")"
   ]
  },
  {
   "cell_type": "code",
   "execution_count": null,
   "id": "2ab1b75d",
   "metadata": {},
   "outputs": [],
   "source": [
    "del col, tmpDf, fig, axes"
   ]
  }
 ],
 "metadata": {
  "kernelspec": {
   "display_name": "Python 3 (ipykernel)",
   "language": "python",
   "name": "python3"
  },
  "language_info": {
   "codemirror_mode": {
    "name": "ipython",
    "version": 3
   },
   "file_extension": ".py",
   "mimetype": "text/x-python",
   "name": "python",
   "nbconvert_exporter": "python",
   "pygments_lexer": "ipython3",
   "version": "3.9.15"
  }
 },
 "nbformat": 4,
 "nbformat_minor": 5
}
